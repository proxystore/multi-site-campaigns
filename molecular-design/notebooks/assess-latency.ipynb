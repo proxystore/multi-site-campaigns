{
 "cells": [
  {
   "cell_type": "markdown",
   "id": "5f28e466-e170-48a2-8311-5faed78d9165",
   "metadata": {},
   "source": [
    "# Assess Latency\n",
    "Measure the different sources of latency using a single- and multi-site implementation of Colmena"
   ]
  },
  {
   "cell_type": "code",
   "execution_count": 15,
   "id": "db65c851-df0c-4e28-951d-7e0d72cc177e",
   "metadata": {},
   "outputs": [],
   "source": [
    "%matplotlib inline\n",
    "from matplotlib import pyplot as plt\n",
    "from datetime import datetime\n",
    "from pathlib import Path\n",
    "import pandas as pd\n",
    "import numpy as np\n",
    "import json\n",
    "import sys"
   ]
  },
  {
   "cell_type": "markdown",
   "id": "1058aa01-62d8-4878-88d0-9c37ad7c506e",
   "metadata": {},
   "source": [
    "Configuration"
   ]
  },
  {
   "cell_type": "code",
   "execution_count": 16,
   "id": "0750fa51-58b0-4ded-a4a2-b763e5336a6f",
   "metadata": {},
   "outputs": [],
   "source": [
    "funcx = Path('./proxystore-runs/8KNL-20T4-baseline')\n",
    "parsl_redis = Path('./proxystore-runs/8KNL-20T4-endpoints-globus-redis')"
   ]
  },
  {
   "cell_type": "markdown",
   "id": "029775ed-4edf-489a-84b0-de5ee44a1ddb",
   "metadata": {},
   "source": [
    "## Assess \"Reaction Time\" between Result Available and Processed\n",
    "We look at the time between when a result completes on the worker, it is received by the task server, and processed by the thinker"
   ]
  },
  {
   "cell_type": "code",
   "execution_count": 17,
   "id": "63c3a6c0-2a6c-4a86-b3d4-f38caa7be434",
   "metadata": {},
   "outputs": [],
   "source": [
    "def get_reaction_times(path: Path) -> pd.DataFrame:\n",
    "    \"\"\"Get the reaction times for a certain run\n",
    "    \n",
    "    Args:\n",
    "        path: Path to the run\n",
    "    Returns:\n",
    "        Many different analyses for each type of tasks. These include\n",
    "    \"\"\"\n",
    "    \n",
    "    # Load in all of the tasks\n",
    "    tasks = pd.read_csv(path / 'processed-results' / 'all-tasks.csv')\n",
    "    tasks['run'] = path.name\n",
    "    \n",
    "    # Load compute the total proxy resolution time for inputs\n",
    "    def _get_resolve_time(x):\n",
    "        x = eval(x)\n",
    "        return sum(i['resolve']['avg_time_ms'] * i['resolve']['calls'] for i in x.values() if 'resolve' in i) / 1000\n",
    "    tasks['time_input_resolution'] = tasks['proxy_timing'].apply(_get_resolve_time)\n",
    "    \n",
    "    # Compute the time compute finished\n",
    "    tasks['time_compute_done'] = tasks['time_compute_started'] + tasks['time_deserialize_inputs'] + tasks['time_async_resolve_proxies'] + tasks['time_running']\n",
    "    \n",
    "    # Compute the difference between the completion time and when it was received by the thinker\n",
    "    tasks['latency_result_sending'] = tasks['time_result_received'] - tasks['time_compute_done']\n",
    "    \n",
    "    # Compute the time until the result was placed in the queue \n",
    "    tasks['latency_to_task_server'] = tasks['time_result_sent'] - tasks['time_compute_done']\n",
    "    \n",
    "    # How much of this time was communicating the result via FuncX/Parsl\n",
    "    tasks['latency_workflow'] = tasks['latency_result_sending'] - tasks['time_serialize_results']\n",
    "    \n",
    "    # Get the set time\n",
    "    def _get_resolve_time(x):\n",
    "        x = eval(x)\n",
    "        return sum(i['set']['avg_time_ms'] * i['set']['calls'] for i in x.values() if 'set' in i) / 1000\n",
    "    tasks['time_write_result_proxy'] = tasks['proxy_timing'].apply(_get_resolve_time)\n",
    "    \n",
    "    # Get the time waiting for the result to show up\n",
    "    def _get_resolve(x):\n",
    "        x = eval(x)\n",
    "        if 'proxy_stats' not in x:\n",
    "            return \n",
    "        assert 'resolve' in x['proxy_stats'], list(x['proxy_stats'].keys())\n",
    "        return x['proxy_stats']['resolve']['avg_time_ms'] / 1000\n",
    "    tasks['latency_data'] = tasks['task_info'].apply(_get_resolve) + tasks['latency_result_sending']\n",
    "    return tasks"
   ]
  },
  {
   "cell_type": "code",
   "execution_count": 18,
   "id": "b84b0212-8046-456b-abb3-6ba373aa4e9a",
   "metadata": {},
   "outputs": [],
   "source": [
    "with (funcx / 'duplicates.json').open() as fp:\n",
    "    funcx_tasks = pd.concat([get_reaction_times(Path(x)) for x in json.load(fp)], ignore_index=True)"
   ]
  },
  {
   "cell_type": "code",
   "execution_count": 19,
   "id": "bdaf94a6-2f97-463c-80b5-ff164a68f80c",
   "metadata": {},
   "outputs": [],
   "source": [
    "with (parsl_redis / 'duplicates.json').open() as fp:\n",
    "    parsl_tasks = pd.concat([get_reaction_times(Path(x)) for x in json.load(fp)], ignore_index=True)"
   ]
  },
  {
   "cell_type": "markdown",
   "id": "4faba237-c93a-4f77-b36a-e0ddc57f6417",
   "metadata": {},
   "source": [
    "The time to serialize results for inference is dominated by the time to start the Globus transfer."
   ]
  },
  {
   "cell_type": "code",
   "execution_count": 20,
   "id": "146eb94b-52fb-4ecd-a19c-d683c1208dba",
   "metadata": {},
   "outputs": [
    {
     "data": {
      "text/plain": [
       "count    1472.000000\n",
       "mean        0.000821\n",
       "std         0.000330\n",
       "min         0.000390\n",
       "25%         0.000688\n",
       "50%         0.000782\n",
       "75%         0.000906\n",
       "max         0.008807\n",
       "Name: time_serialize_results, dtype: float64"
      ]
     },
     "execution_count": 20,
     "metadata": {},
     "output_type": "execute_result"
    }
   ],
   "source": [
    "funcx_tasks.query('task_type==\"inference\"')['time_serialize_results'].describe()"
   ]
  },
  {
   "cell_type": "markdown",
   "id": "9734a224-f0cd-46d2-96d8-19be19dc0def",
   "metadata": {},
   "source": [
    "Compute the time between results completing and being received by the thinker. This measure conflates a few things: time to send notification and time the result is sitting in a processing backlog"
   ]
  },
  {
   "cell_type": "code",
   "execution_count": 21,
   "id": "2ed833e2-de99-4643-b305-f3a323c1c975",
   "metadata": {},
   "outputs": [
    {
     "data": {
      "image/png": "[encoded data removed]",
      "text/plain": [
       "<Figure size 252x162 with 1 Axes>"
      ]
     },
     "metadata": {
      "needs_background": "light"
     },
     "output_type": "display_data"
    }
   ],
   "source": [
    "fig, ax = plt.subplots(figsize=(3.5, 2.25), sharex=True)\n",
    "\n",
    "min_ = np.log10(max(funcx_tasks['latency_to_task_server'].min(), 1e-2))\n",
    "max_ = np.log10(funcx_tasks['latency_result_sending'].max())\n",
    "bins = np.logspace(min_ - 0.1, max_ + 0.1, 64)\n",
    "\n",
    "for task_type, group in funcx_tasks.groupby('task_type'):\n",
    "    ax.hist(group['latency_result_sending'] , bins=bins, label=task_type)\n",
    "\n",
    "ax.legend()\n",
    "ax.set_xscale('log')\n",
    "ax.set_ylabel('Frequency')\n",
    "ax.set_xlabel('Compute Done $\\\\rightarrow$ Thinker (s)')\n",
    "\n",
    "fig.tight_layout()"
   ]
  },
  {
   "cell_type": "code",
   "execution_count": 22,
   "id": "ddccddbf-c004-488f-bb14-b849ae75b57b",
   "metadata": {},
   "outputs": [
    {
     "data": {
      "text/html": [
       "<div>\n",
       "<style scoped>\n",
       "    .dataframe tbody tr th:only-of-type {\n",
       "        vertical-align: middle;\n",
       "    }\n",
       "\n",
       "    .dataframe tbody tr th {\n",
       "        vertical-align: top;\n",
       "    }\n",
       "\n",
       "    .dataframe thead th {\n",
       "        text-align: right;\n",
       "    }\n",
       "</style>\n",
       "<table border=\"1\" class=\"dataframe\">\n",
       "  <thead>\n",
       "    <tr style=\"text-align: right;\">\n",
       "      <th></th>\n",
       "      <th>count</th>\n",
       "      <th>mean</th>\n",
       "      <th>std</th>\n",
       "      <th>min</th>\n",
       "      <th>25%</th>\n",
       "      <th>50%</th>\n",
       "      <th>75%</th>\n",
       "      <th>95%</th>\n",
       "      <th>max</th>\n",
       "    </tr>\n",
       "    <tr>\n",
       "      <th>task_type</th>\n",
       "      <th></th>\n",
       "      <th></th>\n",
       "      <th></th>\n",
       "      <th></th>\n",
       "      <th></th>\n",
       "      <th></th>\n",
       "      <th></th>\n",
       "      <th></th>\n",
       "      <th></th>\n",
       "    </tr>\n",
       "  </thead>\n",
       "  <tbody>\n",
       "    <tr>\n",
       "      <th>inference</th>\n",
       "      <td>1472.0</td>\n",
       "      <td>0.920338</td>\n",
       "      <td>0.745675</td>\n",
       "      <td>0.088572</td>\n",
       "      <td>0.235785</td>\n",
       "      <td>0.695418</td>\n",
       "      <td>1.544970</td>\n",
       "      <td>2.273027</td>\n",
       "      <td>3.394095</td>\n",
       "    </tr>\n",
       "    <tr>\n",
       "      <th>simulation</th>\n",
       "      <td>520.0</td>\n",
       "      <td>0.801418</td>\n",
       "      <td>1.051213</td>\n",
       "      <td>0.025547</td>\n",
       "      <td>0.076474</td>\n",
       "      <td>0.241249</td>\n",
       "      <td>1.264609</td>\n",
       "      <td>2.674400</td>\n",
       "      <td>6.432111</td>\n",
       "    </tr>\n",
       "    <tr>\n",
       "      <th>training</th>\n",
       "      <td>64.0</td>\n",
       "      <td>0.667130</td>\n",
       "      <td>0.612808</td>\n",
       "      <td>0.142628</td>\n",
       "      <td>0.172654</td>\n",
       "      <td>0.366435</td>\n",
       "      <td>1.052661</td>\n",
       "      <td>1.815354</td>\n",
       "      <td>2.385579</td>\n",
       "    </tr>\n",
       "  </tbody>\n",
       "</table>\n",
       "</div>"
      ],
      "text/plain": [
       "             count      mean       std       min       25%       50%  \\\n",
       "task_type                                                              \n",
       "inference   1472.0  0.920338  0.745675  0.088572  0.235785  0.695418   \n",
       "simulation   520.0  0.801418  1.051213  0.025547  0.076474  0.241249   \n",
       "training      64.0  0.667130  0.612808  0.142628  0.172654  0.366435   \n",
       "\n",
       "                 75%       95%       max  \n",
       "task_type                                 \n",
       "inference   1.544970  2.273027  3.394095  \n",
       "simulation  1.264609  2.674400  6.432111  \n",
       "training    1.052661  1.815354  2.385579  "
      ]
     },
     "execution_count": 22,
     "metadata": {},
     "output_type": "execute_result"
    }
   ],
   "source": [
    "funcx_tasks.groupby('task_type')['latency_result_sending'].describe(percentiles=[0.25,0.50,0.75,0.95])"
   ]
  },
  {
   "cell_type": "markdown",
   "id": "53d05784-734d-4cb1-8516-95cd406cb73e",
   "metadata": {},
   "source": [
    "See the time between result completing and being acknolwedged by the task server, which removes any factor dealing with processing backlog on the thinker."
   ]
  },
  {
   "cell_type": "code",
   "execution_count": 23,
   "id": "a443a5ee-a224-4ae8-a615-f2e289fd7db1",
   "metadata": {},
   "outputs": [
    {
     "data": {
      "text/plain": [
       "Text(0.5, 0, 'Compute Done $\\\\rightarrow$ Thinker (s)')"
      ]
     },
     "execution_count": 23,
     "metadata": {},
     "output_type": "execute_result"
    },
    {
     "data": {
      "image/png": "[encoded data removed]",
      "text/plain": [
       "<Figure size 252x162 with 1 Axes>"
      ]
     },
     "metadata": {
      "needs_background": "light"
     },
     "output_type": "display_data"
    }
   ],
   "source": [
    "fig, ax = plt.subplots(figsize=(3.5, 2.25), sharex=True)\n",
    "\n",
    "min_ = np.log10(max(funcx_tasks['latency_workflow'].min(), 1e-2))\n",
    "max_ = np.log10(funcx_tasks['latency_result_sending'].max())\n",
    "bins = np.logspace(min_ - 0.1, max_ + 0.1, 64)\n",
    "\n",
    "for task_type, group in funcx_tasks.groupby('task_type'):\n",
    "    ax.hist(group['latency_to_task_server'] , bins=bins, label=task_type)\n",
    "\n",
    "ax.legend()\n",
    "ax.set_xscale('log')\n",
    "ax.set_ylabel('Frequency')\n",
    "ax.set_xlabel('Compute Done $\\\\rightarrow$ Thinker (s)')"
   ]
  },
  {
   "cell_type": "code",
   "execution_count": 24,
   "id": "29db8a95-ba0e-4253-9a83-11cde1b6b01b",
   "metadata": {},
   "outputs": [
    {
     "data": {
      "text/html": [
       "<div>\n",
       "<style scoped>\n",
       "    .dataframe tbody tr th:only-of-type {\n",
       "        vertical-align: middle;\n",
       "    }\n",
       "\n",
       "    .dataframe tbody tr th {\n",
       "        vertical-align: top;\n",
       "    }\n",
       "\n",
       "    .dataframe thead th {\n",
       "        text-align: right;\n",
       "    }\n",
       "</style>\n",
       "<table border=\"1\" class=\"dataframe\">\n",
       "  <thead>\n",
       "    <tr style=\"text-align: right;\">\n",
       "      <th></th>\n",
       "      <th>count</th>\n",
       "      <th>mean</th>\n",
       "      <th>std</th>\n",
       "      <th>min</th>\n",
       "      <th>25%</th>\n",
       "      <th>50%</th>\n",
       "      <th>75%</th>\n",
       "      <th>max</th>\n",
       "    </tr>\n",
       "    <tr>\n",
       "      <th>task_type</th>\n",
       "      <th></th>\n",
       "      <th></th>\n",
       "      <th></th>\n",
       "      <th></th>\n",
       "      <th></th>\n",
       "      <th></th>\n",
       "      <th></th>\n",
       "      <th></th>\n",
       "    </tr>\n",
       "  </thead>\n",
       "  <tbody>\n",
       "    <tr>\n",
       "      <th>inference</th>\n",
       "      <td>1472.0</td>\n",
       "      <td>0.307978</td>\n",
       "      <td>0.201488</td>\n",
       "      <td>0.084715</td>\n",
       "      <td>0.188194</td>\n",
       "      <td>0.231568</td>\n",
       "      <td>0.344606</td>\n",
       "      <td>1.135378</td>\n",
       "    </tr>\n",
       "    <tr>\n",
       "      <th>simulation</th>\n",
       "      <td>520.0</td>\n",
       "      <td>0.124680</td>\n",
       "      <td>0.163709</td>\n",
       "      <td>0.021073</td>\n",
       "      <td>0.043993</td>\n",
       "      <td>0.063589</td>\n",
       "      <td>0.111744</td>\n",
       "      <td>1.346971</td>\n",
       "    </tr>\n",
       "    <tr>\n",
       "      <th>training</th>\n",
       "      <td>64.0</td>\n",
       "      <td>0.196840</td>\n",
       "      <td>0.134327</td>\n",
       "      <td>0.096623</td>\n",
       "      <td>0.120979</td>\n",
       "      <td>0.139751</td>\n",
       "      <td>0.175925</td>\n",
       "      <td>0.616757</td>\n",
       "    </tr>\n",
       "  </tbody>\n",
       "</table>\n",
       "</div>"
      ],
      "text/plain": [
       "             count      mean       std       min       25%       50%  \\\n",
       "task_type                                                              \n",
       "inference   1472.0  0.307978  0.201488  0.084715  0.188194  0.231568   \n",
       "simulation   520.0  0.124680  0.163709  0.021073  0.043993  0.063589   \n",
       "training      64.0  0.196840  0.134327  0.096623  0.120979  0.139751   \n",
       "\n",
       "                 75%       max  \n",
       "task_type                       \n",
       "inference   0.344606  1.135378  \n",
       "simulation  0.111744  1.346971  \n",
       "training    0.175925  0.616757  "
      ]
     },
     "execution_count": 24,
     "metadata": {},
     "output_type": "execute_result"
    }
   ],
   "source": [
    "funcx_tasks.groupby('task_type')['latency_to_task_server'].describe()"
   ]
  },
  {
   "cell_type": "markdown",
   "id": "83b23854-2168-4023-939a-0987e43e0d81",
   "metadata": {},
   "source": [
    "See how much funcX has to do with it"
   ]
  },
  {
   "cell_type": "markdown",
   "id": "1012d4bd-85ce-45dd-b627-71ecbaed5ed0",
   "metadata": {},
   "source": [
    "See how long we're waiting for the data to transfer. Th"
   ]
  },
  {
   "cell_type": "code",
   "execution_count": 25,
   "id": "9e107419-fc07-4123-a53e-23ecad07ca70",
   "metadata": {},
   "outputs": [
    {
     "ename": "AttributeError",
     "evalue": "'float' object has no attribute 'dtype'",
     "output_type": "error",
     "traceback": [
      "\u001b[0;31m---------------------------------------------------------------------------\u001b[0m",
      "\u001b[0;31mAttributeError\u001b[0m                            Traceback (most recent call last)",
      "\u001b[0;32m/tmp/ipykernel_12172/2082947034.py\u001b[0m in \u001b[0;36m<module>\u001b[0;34m\u001b[0m\n\u001b[1;32m      6\u001b[0m \u001b[0;34m\u001b[0m\u001b[0m\n\u001b[1;32m      7\u001b[0m \u001b[0;32mfor\u001b[0m \u001b[0mtask_type\u001b[0m\u001b[0;34m,\u001b[0m \u001b[0mgroup\u001b[0m \u001b[0;32min\u001b[0m \u001b[0mfuncx_tasks\u001b[0m\u001b[0;34m.\u001b[0m\u001b[0mgroupby\u001b[0m\u001b[0;34m(\u001b[0m\u001b[0;34m'task_type'\u001b[0m\u001b[0;34m)\u001b[0m\u001b[0;34m:\u001b[0m\u001b[0;34m\u001b[0m\u001b[0;34m\u001b[0m\u001b[0m\n\u001b[0;32m----> 8\u001b[0;31m     \u001b[0max\u001b[0m\u001b[0;34m.\u001b[0m\u001b[0mhist\u001b[0m\u001b[0;34m(\u001b[0m\u001b[0mgroup\u001b[0m\u001b[0;34m[\u001b[0m\u001b[0;34m'latency_data'\u001b[0m\u001b[0;34m]\u001b[0m \u001b[0;34m,\u001b[0m \u001b[0mbins\u001b[0m\u001b[0;34m=\u001b[0m\u001b[0mbins\u001b[0m\u001b[0;34m,\u001b[0m \u001b[0mlabel\u001b[0m\u001b[0;34m=\u001b[0m\u001b[0mtask_type\u001b[0m\u001b[0;34m)\u001b[0m\u001b[0;34m\u001b[0m\u001b[0;34m\u001b[0m\u001b[0m\n\u001b[0m\u001b[1;32m      9\u001b[0m \u001b[0;34m\u001b[0m\u001b[0m\n\u001b[1;32m     10\u001b[0m \u001b[0max\u001b[0m\u001b[0;34m.\u001b[0m\u001b[0mlegend\u001b[0m\u001b[0;34m(\u001b[0m\u001b[0;34m)\u001b[0m\u001b[0;34m\u001b[0m\u001b[0;34m\u001b[0m\u001b[0m\n",
      "\u001b[0;32m/opt/anaconda3x/lib/python3.7/site-packages/matplotlib/__init__.py\u001b[0m in \u001b[0;36minner\u001b[0;34m(ax, data, *args, **kwargs)\u001b[0m\n\u001b[1;32m   1359\u001b[0m     \u001b[0;32mdef\u001b[0m \u001b[0minner\u001b[0m\u001b[0;34m(\u001b[0m\u001b[0max\u001b[0m\u001b[0;34m,\u001b[0m \u001b[0;34m*\u001b[0m\u001b[0margs\u001b[0m\u001b[0;34m,\u001b[0m \u001b[0mdata\u001b[0m\u001b[0;34m=\u001b[0m\u001b[0;32mNone\u001b[0m\u001b[0;34m,\u001b[0m \u001b[0;34m**\u001b[0m\u001b[0mkwargs\u001b[0m\u001b[0;34m)\u001b[0m\u001b[0;34m:\u001b[0m\u001b[0;34m\u001b[0m\u001b[0;34m\u001b[0m\u001b[0m\n\u001b[1;32m   1360\u001b[0m         \u001b[0;32mif\u001b[0m \u001b[0mdata\u001b[0m \u001b[0;32mis\u001b[0m \u001b[0;32mNone\u001b[0m\u001b[0;34m:\u001b[0m\u001b[0;34m\u001b[0m\u001b[0;34m\u001b[0m\u001b[0m\n\u001b[0;32m-> 1361\u001b[0;31m             \u001b[0;32mreturn\u001b[0m \u001b[0mfunc\u001b[0m\u001b[0;34m(\u001b[0m\u001b[0max\u001b[0m\u001b[0;34m,\u001b[0m \u001b[0;34m*\u001b[0m\u001b[0mmap\u001b[0m\u001b[0;34m(\u001b[0m\u001b[0msanitize_sequence\u001b[0m\u001b[0;34m,\u001b[0m \u001b[0margs\u001b[0m\u001b[0;34m)\u001b[0m\u001b[0;34m,\u001b[0m \u001b[0;34m**\u001b[0m\u001b[0mkwargs\u001b[0m\u001b[0;34m)\u001b[0m\u001b[0;34m\u001b[0m\u001b[0;34m\u001b[0m\u001b[0m\n\u001b[0m\u001b[1;32m   1362\u001b[0m \u001b[0;34m\u001b[0m\u001b[0m\n\u001b[1;32m   1363\u001b[0m         \u001b[0mbound\u001b[0m \u001b[0;34m=\u001b[0m \u001b[0mnew_sig\u001b[0m\u001b[0;34m.\u001b[0m\u001b[0mbind\u001b[0m\u001b[0;34m(\u001b[0m\u001b[0max\u001b[0m\u001b[0;34m,\u001b[0m \u001b[0;34m*\u001b[0m\u001b[0margs\u001b[0m\u001b[0;34m,\u001b[0m \u001b[0;34m**\u001b[0m\u001b[0mkwargs\u001b[0m\u001b[0;34m)\u001b[0m\u001b[0;34m\u001b[0m\u001b[0;34m\u001b[0m\u001b[0m\n",
      "\u001b[0;32m/opt/anaconda3x/lib/python3.7/site-packages/matplotlib/axes/_axes.py\u001b[0m in \u001b[0;36mhist\u001b[0;34m(self, x, bins, range, density, weights, cumulative, bottom, histtype, align, orientation, rwidth, log, color, label, stacked, **kwargs)\u001b[0m\n\u001b[1;32m   6729\u001b[0m                     \u001b[0;31m# python's min/max ignore nan,\u001b[0m\u001b[0;34m\u001b[0m\u001b[0;34m\u001b[0m\u001b[0;34m\u001b[0m\u001b[0m\n\u001b[1;32m   6730\u001b[0m                     \u001b[0;31m# np.minnan returns nan for all nan input\u001b[0m\u001b[0;34m\u001b[0m\u001b[0;34m\u001b[0m\u001b[0;34m\u001b[0m\u001b[0m\n\u001b[0;32m-> 6731\u001b[0;31m                     \u001b[0mxmin\u001b[0m \u001b[0;34m=\u001b[0m \u001b[0mmin\u001b[0m\u001b[0;34m(\u001b[0m\u001b[0mxmin\u001b[0m\u001b[0;34m,\u001b[0m \u001b[0mnp\u001b[0m\u001b[0;34m.\u001b[0m\u001b[0mnanmin\u001b[0m\u001b[0;34m(\u001b[0m\u001b[0mxi\u001b[0m\u001b[0;34m)\u001b[0m\u001b[0;34m)\u001b[0m\u001b[0;34m\u001b[0m\u001b[0;34m\u001b[0m\u001b[0m\n\u001b[0m\u001b[1;32m   6732\u001b[0m                     \u001b[0mxmax\u001b[0m \u001b[0;34m=\u001b[0m \u001b[0mmax\u001b[0m\u001b[0;34m(\u001b[0m\u001b[0mxmax\u001b[0m\u001b[0;34m,\u001b[0m \u001b[0mnp\u001b[0m\u001b[0;34m.\u001b[0m\u001b[0mnanmax\u001b[0m\u001b[0;34m(\u001b[0m\u001b[0mxi\u001b[0m\u001b[0;34m)\u001b[0m\u001b[0;34m)\u001b[0m\u001b[0;34m\u001b[0m\u001b[0;34m\u001b[0m\u001b[0m\n\u001b[1;32m   6733\u001b[0m             \u001b[0;32mif\u001b[0m \u001b[0mxmin\u001b[0m \u001b[0;34m<=\u001b[0m \u001b[0mxmax\u001b[0m\u001b[0;34m:\u001b[0m  \u001b[0;31m# Only happens if we have seen a finite value.\u001b[0m\u001b[0;34m\u001b[0m\u001b[0;34m\u001b[0m\u001b[0m\n",
      "\u001b[0;32m<__array_function__ internals>\u001b[0m in \u001b[0;36mnanmin\u001b[0;34m(*args, **kwargs)\u001b[0m\n",
      "\u001b[0;32m/opt/anaconda3x/lib/python3.7/site-packages/numpy/lib/nanfunctions.py\u001b[0m in \u001b[0;36mnanmin\u001b[0;34m(a, axis, out, keepdims)\u001b[0m\n\u001b[1;32m    331\u001b[0m         \u001b[0mmask\u001b[0m \u001b[0;34m=\u001b[0m \u001b[0mnp\u001b[0m\u001b[0;34m.\u001b[0m\u001b[0mall\u001b[0m\u001b[0;34m(\u001b[0m\u001b[0mmask\u001b[0m\u001b[0;34m,\u001b[0m \u001b[0maxis\u001b[0m\u001b[0;34m=\u001b[0m\u001b[0maxis\u001b[0m\u001b[0;34m,\u001b[0m \u001b[0;34m**\u001b[0m\u001b[0mkwargs\u001b[0m\u001b[0;34m)\u001b[0m\u001b[0;34m\u001b[0m\u001b[0;34m\u001b[0m\u001b[0m\n\u001b[1;32m    332\u001b[0m         \u001b[0;32mif\u001b[0m \u001b[0mnp\u001b[0m\u001b[0;34m.\u001b[0m\u001b[0many\u001b[0m\u001b[0;34m(\u001b[0m\u001b[0mmask\u001b[0m\u001b[0;34m)\u001b[0m\u001b[0;34m:\u001b[0m\u001b[0;34m\u001b[0m\u001b[0;34m\u001b[0m\u001b[0m\n\u001b[0;32m--> 333\u001b[0;31m             \u001b[0mres\u001b[0m \u001b[0;34m=\u001b[0m \u001b[0m_copyto\u001b[0m\u001b[0;34m(\u001b[0m\u001b[0mres\u001b[0m\u001b[0;34m,\u001b[0m \u001b[0mnp\u001b[0m\u001b[0;34m.\u001b[0m\u001b[0mnan\u001b[0m\u001b[0;34m,\u001b[0m \u001b[0mmask\u001b[0m\u001b[0;34m)\u001b[0m\u001b[0;34m\u001b[0m\u001b[0;34m\u001b[0m\u001b[0m\n\u001b[0m\u001b[1;32m    334\u001b[0m             warnings.warn(\"All-NaN axis encountered\", RuntimeWarning,\n\u001b[1;32m    335\u001b[0m                           stacklevel=3)\n",
      "\u001b[0;32m/opt/anaconda3x/lib/python3.7/site-packages/numpy/lib/nanfunctions.py\u001b[0m in \u001b[0;36m_copyto\u001b[0;34m(a, val, mask)\u001b[0m\n\u001b[1;32m    136\u001b[0m         \u001b[0mnp\u001b[0m\u001b[0;34m.\u001b[0m\u001b[0mcopyto\u001b[0m\u001b[0;34m(\u001b[0m\u001b[0ma\u001b[0m\u001b[0;34m,\u001b[0m \u001b[0mval\u001b[0m\u001b[0;34m,\u001b[0m \u001b[0mwhere\u001b[0m\u001b[0;34m=\u001b[0m\u001b[0mmask\u001b[0m\u001b[0;34m,\u001b[0m \u001b[0mcasting\u001b[0m\u001b[0;34m=\u001b[0m\u001b[0;34m'unsafe'\u001b[0m\u001b[0;34m)\u001b[0m\u001b[0;34m\u001b[0m\u001b[0;34m\u001b[0m\u001b[0m\n\u001b[1;32m    137\u001b[0m     \u001b[0;32melse\u001b[0m\u001b[0;34m:\u001b[0m\u001b[0;34m\u001b[0m\u001b[0;34m\u001b[0m\u001b[0m\n\u001b[0;32m--> 138\u001b[0;31m         \u001b[0ma\u001b[0m \u001b[0;34m=\u001b[0m \u001b[0ma\u001b[0m\u001b[0;34m.\u001b[0m\u001b[0mdtype\u001b[0m\u001b[0;34m.\u001b[0m\u001b[0mtype\u001b[0m\u001b[0;34m(\u001b[0m\u001b[0mval\u001b[0m\u001b[0;34m)\u001b[0m\u001b[0;34m\u001b[0m\u001b[0;34m\u001b[0m\u001b[0m\n\u001b[0m\u001b[1;32m    139\u001b[0m     \u001b[0;32mreturn\u001b[0m \u001b[0ma\u001b[0m\u001b[0;34m\u001b[0m\u001b[0;34m\u001b[0m\u001b[0m\n\u001b[1;32m    140\u001b[0m \u001b[0;34m\u001b[0m\u001b[0m\n",
      "\u001b[0;31mAttributeError\u001b[0m: 'float' object has no attribute 'dtype'"
     ]
    },
    {
     "data": {
      "image/png": "[encoded data removed]",
      "text/plain": [
       "<Figure size 252x162 with 1 Axes>"
      ]
     },
     "metadata": {
      "needs_background": "light"
     },
     "output_type": "display_data"
    }
   ],
   "source": [
    "fig, ax = plt.subplots(figsize=(3.5, 2.25), sharex=True)\n",
    "\n",
    "min_ = np.log10(max(funcx_tasks['latency_data'].min(), 1e-2))\n",
    "max_ = np.log10(funcx_tasks['latency_data'].max())\n",
    "bins = np.logspace(min_ - 0.1, max_ + 0.1, 64)\n",
    "\n",
    "for task_type, group in funcx_tasks.groupby('task_type'):\n",
    "    ax.hist(group['latency_data'] , bins=bins, label=task_type)\n",
    "\n",
    "ax.legend()\n",
    "ax.set_xscale('log')\n",
    "ax.set_ylabel('Frequency')\n",
    "ax.set_xlabel('Compute Done $\\\\rightarrow$ Thinker (s)')\n",
    "\n",
    "\n",
    "fig.tight_layout()\n",
    "fig.savefig('figures/reaction-time-latency.png', dpi=320)\n",
    "fig.savefig('figures/reaction-time-latency.pdf')"
   ]
  },
  {
   "cell_type": "code",
   "execution_count": 26,
   "id": "fe443fac-3207-4a16-afc3-76df140e67fa",
   "metadata": {},
   "outputs": [
    {
     "data": {
      "text/html": [
       "<div>\n",
       "<style scoped>\n",
       "    .dataframe tbody tr th:only-of-type {\n",
       "        vertical-align: middle;\n",
       "    }\n",
       "\n",
       "    .dataframe tbody tr th {\n",
       "        vertical-align: top;\n",
       "    }\n",
       "\n",
       "    .dataframe thead th {\n",
       "        text-align: right;\n",
       "    }\n",
       "</style>\n",
       "<table border=\"1\" class=\"dataframe\">\n",
       "  <thead>\n",
       "    <tr style=\"text-align: right;\">\n",
       "      <th></th>\n",
       "      <th>count</th>\n",
       "      <th>unique</th>\n",
       "      <th>top</th>\n",
       "      <th>freq</th>\n",
       "    </tr>\n",
       "    <tr>\n",
       "      <th>task_type</th>\n",
       "      <th></th>\n",
       "      <th></th>\n",
       "      <th></th>\n",
       "      <th></th>\n",
       "    </tr>\n",
       "  </thead>\n",
       "  <tbody>\n",
       "    <tr>\n",
       "      <th>inference</th>\n",
       "      <td>0</td>\n",
       "      <td>0</td>\n",
       "      <td>NaN</td>\n",
       "      <td>NaN</td>\n",
       "    </tr>\n",
       "    <tr>\n",
       "      <th>simulation</th>\n",
       "      <td>0</td>\n",
       "      <td>0</td>\n",
       "      <td>NaN</td>\n",
       "      <td>NaN</td>\n",
       "    </tr>\n",
       "    <tr>\n",
       "      <th>training</th>\n",
       "      <td>0</td>\n",
       "      <td>0</td>\n",
       "      <td>NaN</td>\n",
       "      <td>NaN</td>\n",
       "    </tr>\n",
       "  </tbody>\n",
       "</table>\n",
       "</div>"
      ],
      "text/plain": [
       "           count unique  top freq\n",
       "task_type                        \n",
       "inference      0      0  NaN  NaN\n",
       "simulation     0      0  NaN  NaN\n",
       "training       0      0  NaN  NaN"
      ]
     },
     "execution_count": 26,
     "metadata": {},
     "output_type": "execute_result"
    }
   ],
   "source": [
    "funcx_tasks.groupby('task_type')['latency_data'].describe()"
   ]
  },
  {
   "cell_type": "markdown",
   "id": "af664968-95a2-46b8-a51f-ac0f58596e5b",
   "metadata": {},
   "source": [
    "Compile the two into a single figure"
   ]
  },
  {
   "cell_type": "code",
   "execution_count": 27,
   "id": "91733ccd-4825-485e-8259-828f65cbe1f1",
   "metadata": {},
   "outputs": [
    {
     "ename": "AttributeError",
     "evalue": "'float' object has no attribute 'dtype'",
     "output_type": "error",
     "traceback": [
      "\u001b[0;31m---------------------------------------------------------------------------\u001b[0m",
      "\u001b[0;31mAttributeError\u001b[0m                            Traceback (most recent call last)",
      "\u001b[0;32m/tmp/ipykernel_12172/4212723044.py\u001b[0m in \u001b[0;36m<module>\u001b[0;34m\u001b[0m\n\u001b[1;32m     16\u001b[0m                 edgecolor='k', facecolor=colors[task_type])\n\u001b[1;32m     17\u001b[0m     axs[1].hist(group['latency_data'], bins=bins, label=task_type,\n\u001b[0;32m---> 18\u001b[0;31m                 edgecolor='k', facecolor=colors[task_type])\n\u001b[0m\u001b[1;32m     19\u001b[0m \u001b[0;34m\u001b[0m\u001b[0m\n\u001b[1;32m     20\u001b[0m \u001b[0;31m# Label the axes\u001b[0m\u001b[0;34m\u001b[0m\u001b[0;34m\u001b[0m\u001b[0;34m\u001b[0m\u001b[0m\n",
      "\u001b[0;32m/opt/anaconda3x/lib/python3.7/site-packages/matplotlib/__init__.py\u001b[0m in \u001b[0;36minner\u001b[0;34m(ax, data, *args, **kwargs)\u001b[0m\n\u001b[1;32m   1359\u001b[0m     \u001b[0;32mdef\u001b[0m \u001b[0minner\u001b[0m\u001b[0;34m(\u001b[0m\u001b[0max\u001b[0m\u001b[0;34m,\u001b[0m \u001b[0;34m*\u001b[0m\u001b[0margs\u001b[0m\u001b[0;34m,\u001b[0m \u001b[0mdata\u001b[0m\u001b[0;34m=\u001b[0m\u001b[0;32mNone\u001b[0m\u001b[0;34m,\u001b[0m \u001b[0;34m**\u001b[0m\u001b[0mkwargs\u001b[0m\u001b[0;34m)\u001b[0m\u001b[0;34m:\u001b[0m\u001b[0;34m\u001b[0m\u001b[0;34m\u001b[0m\u001b[0m\n\u001b[1;32m   1360\u001b[0m         \u001b[0;32mif\u001b[0m \u001b[0mdata\u001b[0m \u001b[0;32mis\u001b[0m \u001b[0;32mNone\u001b[0m\u001b[0;34m:\u001b[0m\u001b[0;34m\u001b[0m\u001b[0;34m\u001b[0m\u001b[0m\n\u001b[0;32m-> 1361\u001b[0;31m             \u001b[0;32mreturn\u001b[0m \u001b[0mfunc\u001b[0m\u001b[0;34m(\u001b[0m\u001b[0max\u001b[0m\u001b[0;34m,\u001b[0m \u001b[0;34m*\u001b[0m\u001b[0mmap\u001b[0m\u001b[0;34m(\u001b[0m\u001b[0msanitize_sequence\u001b[0m\u001b[0;34m,\u001b[0m \u001b[0margs\u001b[0m\u001b[0;34m)\u001b[0m\u001b[0;34m,\u001b[0m \u001b[0;34m**\u001b[0m\u001b[0mkwargs\u001b[0m\u001b[0;34m)\u001b[0m\u001b[0;34m\u001b[0m\u001b[0;34m\u001b[0m\u001b[0m\n\u001b[0m\u001b[1;32m   1362\u001b[0m \u001b[0;34m\u001b[0m\u001b[0m\n\u001b[1;32m   1363\u001b[0m         \u001b[0mbound\u001b[0m \u001b[0;34m=\u001b[0m \u001b[0mnew_sig\u001b[0m\u001b[0;34m.\u001b[0m\u001b[0mbind\u001b[0m\u001b[0;34m(\u001b[0m\u001b[0max\u001b[0m\u001b[0;34m,\u001b[0m \u001b[0;34m*\u001b[0m\u001b[0margs\u001b[0m\u001b[0;34m,\u001b[0m \u001b[0;34m**\u001b[0m\u001b[0mkwargs\u001b[0m\u001b[0;34m)\u001b[0m\u001b[0;34m\u001b[0m\u001b[0;34m\u001b[0m\u001b[0m\n",
      "\u001b[0;32m/opt/anaconda3x/lib/python3.7/site-packages/matplotlib/axes/_axes.py\u001b[0m in \u001b[0;36mhist\u001b[0;34m(self, x, bins, range, density, weights, cumulative, bottom, histtype, align, orientation, rwidth, log, color, label, stacked, **kwargs)\u001b[0m\n\u001b[1;32m   6729\u001b[0m                     \u001b[0;31m# python's min/max ignore nan,\u001b[0m\u001b[0;34m\u001b[0m\u001b[0;34m\u001b[0m\u001b[0;34m\u001b[0m\u001b[0m\n\u001b[1;32m   6730\u001b[0m                     \u001b[0;31m# np.minnan returns nan for all nan input\u001b[0m\u001b[0;34m\u001b[0m\u001b[0;34m\u001b[0m\u001b[0;34m\u001b[0m\u001b[0m\n\u001b[0;32m-> 6731\u001b[0;31m                     \u001b[0mxmin\u001b[0m \u001b[0;34m=\u001b[0m \u001b[0mmin\u001b[0m\u001b[0;34m(\u001b[0m\u001b[0mxmin\u001b[0m\u001b[0;34m,\u001b[0m \u001b[0mnp\u001b[0m\u001b[0;34m.\u001b[0m\u001b[0mnanmin\u001b[0m\u001b[0;34m(\u001b[0m\u001b[0mxi\u001b[0m\u001b[0;34m)\u001b[0m\u001b[0;34m)\u001b[0m\u001b[0;34m\u001b[0m\u001b[0;34m\u001b[0m\u001b[0m\n\u001b[0m\u001b[1;32m   6732\u001b[0m                     \u001b[0mxmax\u001b[0m \u001b[0;34m=\u001b[0m \u001b[0mmax\u001b[0m\u001b[0;34m(\u001b[0m\u001b[0mxmax\u001b[0m\u001b[0;34m,\u001b[0m \u001b[0mnp\u001b[0m\u001b[0;34m.\u001b[0m\u001b[0mnanmax\u001b[0m\u001b[0;34m(\u001b[0m\u001b[0mxi\u001b[0m\u001b[0;34m)\u001b[0m\u001b[0;34m)\u001b[0m\u001b[0;34m\u001b[0m\u001b[0;34m\u001b[0m\u001b[0m\n\u001b[1;32m   6733\u001b[0m             \u001b[0;32mif\u001b[0m \u001b[0mxmin\u001b[0m \u001b[0;34m<=\u001b[0m \u001b[0mxmax\u001b[0m\u001b[0;34m:\u001b[0m  \u001b[0;31m# Only happens if we have seen a finite value.\u001b[0m\u001b[0;34m\u001b[0m\u001b[0;34m\u001b[0m\u001b[0m\n",
      "\u001b[0;32m<__array_function__ internals>\u001b[0m in \u001b[0;36mnanmin\u001b[0;34m(*args, **kwargs)\u001b[0m\n",
      "\u001b[0;32m/opt/anaconda3x/lib/python3.7/site-packages/numpy/lib/nanfunctions.py\u001b[0m in \u001b[0;36mnanmin\u001b[0;34m(a, axis, out, keepdims)\u001b[0m\n\u001b[1;32m    331\u001b[0m         \u001b[0mmask\u001b[0m \u001b[0;34m=\u001b[0m \u001b[0mnp\u001b[0m\u001b[0;34m.\u001b[0m\u001b[0mall\u001b[0m\u001b[0;34m(\u001b[0m\u001b[0mmask\u001b[0m\u001b[0;34m,\u001b[0m \u001b[0maxis\u001b[0m\u001b[0;34m=\u001b[0m\u001b[0maxis\u001b[0m\u001b[0;34m,\u001b[0m \u001b[0;34m**\u001b[0m\u001b[0mkwargs\u001b[0m\u001b[0;34m)\u001b[0m\u001b[0;34m\u001b[0m\u001b[0;34m\u001b[0m\u001b[0m\n\u001b[1;32m    332\u001b[0m         \u001b[0;32mif\u001b[0m \u001b[0mnp\u001b[0m\u001b[0;34m.\u001b[0m\u001b[0many\u001b[0m\u001b[0;34m(\u001b[0m\u001b[0mmask\u001b[0m\u001b[0;34m)\u001b[0m\u001b[0;34m:\u001b[0m\u001b[0;34m\u001b[0m\u001b[0;34m\u001b[0m\u001b[0m\n\u001b[0;32m--> 333\u001b[0;31m             \u001b[0mres\u001b[0m \u001b[0;34m=\u001b[0m \u001b[0m_copyto\u001b[0m\u001b[0;34m(\u001b[0m\u001b[0mres\u001b[0m\u001b[0;34m,\u001b[0m \u001b[0mnp\u001b[0m\u001b[0;34m.\u001b[0m\u001b[0mnan\u001b[0m\u001b[0;34m,\u001b[0m \u001b[0mmask\u001b[0m\u001b[0;34m)\u001b[0m\u001b[0;34m\u001b[0m\u001b[0;34m\u001b[0m\u001b[0m\n\u001b[0m\u001b[1;32m    334\u001b[0m             warnings.warn(\"All-NaN axis encountered\", RuntimeWarning,\n\u001b[1;32m    335\u001b[0m                           stacklevel=3)\n",
      "\u001b[0;32m/opt/anaconda3x/lib/python3.7/site-packages/numpy/lib/nanfunctions.py\u001b[0m in \u001b[0;36m_copyto\u001b[0;34m(a, val, mask)\u001b[0m\n\u001b[1;32m    136\u001b[0m         \u001b[0mnp\u001b[0m\u001b[0;34m.\u001b[0m\u001b[0mcopyto\u001b[0m\u001b[0;34m(\u001b[0m\u001b[0ma\u001b[0m\u001b[0;34m,\u001b[0m \u001b[0mval\u001b[0m\u001b[0;34m,\u001b[0m \u001b[0mwhere\u001b[0m\u001b[0;34m=\u001b[0m\u001b[0mmask\u001b[0m\u001b[0;34m,\u001b[0m \u001b[0mcasting\u001b[0m\u001b[0;34m=\u001b[0m\u001b[0;34m'unsafe'\u001b[0m\u001b[0;34m)\u001b[0m\u001b[0;34m\u001b[0m\u001b[0;34m\u001b[0m\u001b[0m\n\u001b[1;32m    137\u001b[0m     \u001b[0;32melse\u001b[0m\u001b[0;34m:\u001b[0m\u001b[0;34m\u001b[0m\u001b[0;34m\u001b[0m\u001b[0m\n\u001b[0;32m--> 138\u001b[0;31m         \u001b[0ma\u001b[0m \u001b[0;34m=\u001b[0m \u001b[0ma\u001b[0m\u001b[0;34m.\u001b[0m\u001b[0mdtype\u001b[0m\u001b[0;34m.\u001b[0m\u001b[0mtype\u001b[0m\u001b[0;34m(\u001b[0m\u001b[0mval\u001b[0m\u001b[0;34m)\u001b[0m\u001b[0;34m\u001b[0m\u001b[0;34m\u001b[0m\u001b[0m\n\u001b[0m\u001b[1;32m    139\u001b[0m     \u001b[0;32mreturn\u001b[0m \u001b[0ma\u001b[0m\u001b[0;34m\u001b[0m\u001b[0;34m\u001b[0m\u001b[0m\n\u001b[1;32m    140\u001b[0m \u001b[0;34m\u001b[0m\u001b[0m\n",
      "\u001b[0;31mAttributeError\u001b[0m: 'float' object has no attribute 'dtype'"
     ]
    },
    {
     "data": {
      "image/png": "[encoded data removed]",
      "text/plain": [
       "<Figure size 252x136.8 with 2 Axes>"
      ]
     },
     "metadata": {
      "needs_background": "light"
     },
     "output_type": "display_data"
    }
   ],
   "source": [
    "fig, axs = plt.subplots(2, 1, figsize=(3.5, 1.9), sharex=True, sharey=False)\n",
    "\n",
    "# Get the bins for the histogram\n",
    "min_ = -1\n",
    "max_ = np.log10(funcx_tasks['latency_data'].max())\n",
    "bins = np.logspace(min_ - 0.1, max_ + 0., 50)\n",
    "\n",
    "# Plot the data\n",
    "colors = {\n",
    "    'inference': 'deepskyblue',\n",
    "    'simulation': 'goldenrod',\n",
    "    'training': 'maroon'\n",
    "}\n",
    "for task_type, group in funcx_tasks.groupby('task_type'):\n",
    "    axs[0].hist(group['latency_to_task_server'], bins=bins, label=task_type,\n",
    "                edgecolor='k', facecolor=colors[task_type])\n",
    "    axs[1].hist(group['latency_data'], bins=bins, label=task_type,\n",
    "                edgecolor='k', facecolor=colors[task_type])\n",
    "\n",
    "# Label the axes\n",
    "for ax in axs:\n",
    "    ax.set_xscale('log')\n",
    "axs[1].set_ylabel('Frequency', y=1.)\n",
    "axs[1].set_xlabel('Latency (s)')\n",
    "\n",
    "# Label the plots\n",
    "axs[0].text(0.01, 0.99, 'Notification', ha='left', va='top', fontsize=9,\n",
    "           transform=axs[0].transAxes)\n",
    "axs[1].text(0.01, 0.99, 'Access', ha='left', va='top', fontsize=9,\n",
    "           transform=axs[1].transAxes)\n",
    "\n",
    "axs[0].legend(fontsize=7, ncol=1)\n",
    "\n",
    "fig.tight_layout(h_pad=0.1)\n",
    "fig.savefig('figures/latency-analysis_reaction-time.png', dpi=320)\n",
    "fig.savefig('figures/latency-analysis_reaction-time.pdf')"
   ]
  },
  {
   "cell_type": "markdown",
   "id": "9f85b734-c690-4f53-a817-0bb03772b791",
   "metadata": {},
   "source": [
    "We see latencies never above 10s for either of the types of latency."
   ]
  },
  {
   "cell_type": "markdown",
   "id": "57cc7e77-b146-4141-bb02-d2fa842f110e",
   "metadata": {},
   "source": [
    "Repeat the analysis with Parsl"
   ]
  },
  {
   "cell_type": "code",
   "execution_count": 28,
   "id": "528538a6-3541-45fd-af8e-d96707df493f",
   "metadata": {},
   "outputs": [
    {
     "data": {
      "image/png": "[encoded data removed]",
      "text/plain": [
       "<Figure size 252x198 with 2 Axes>"
      ]
     },
     "metadata": {
      "needs_background": "light"
     },
     "output_type": "display_data"
    }
   ],
   "source": [
    "fig, axs = plt.subplots(2, 1, figsize=(3.5, 2.75), sharex=True, sharey=False)\n",
    "\n",
    "# Get the bins for the histogram\n",
    "min_ = -3.5\n",
    "max_ = np.log10(parsl_tasks['latency_data'].max())\n",
    "bins = np.logspace(min_ - 0.1, max_ + 0.1, 64)\n",
    "\n",
    "# Plot the data\n",
    "for task_type, group in parsl_tasks.groupby('task_type'):\n",
    "    axs[0].hist(group['latency_to_task_server'], bins=bins, label=task_type, edgecolor='k')\n",
    "    axs[1].hist(group['latency_data'], bins=bins, label=task_type, edgecolor='k')\n",
    "\n",
    "# Label the axes\n",
    "for ax in axs:\n",
    "    ax.set_xscale('log')\n",
    "    ax.set_ylabel('Frequency')\n",
    "axs[1].set_xlabel('Latency (s)')\n",
    "\n",
    "# Label the plots\n",
    "axs[0].set_title('Notification', loc='left', fontsize=9)\n",
    "axs[1].set_title('Access', loc='left', fontsize=9)\n",
    "\n",
    "axs[1].legend(fontsize=7)\n",
    "\n",
    "fig.tight_layout()\n",
    "fig.savefig('figures/latency-analysis_reaction-time-parsl.png', dpi=320)\n",
    "fig.savefig('figures/latency-analysis_reaction-time-parsl.pdf')"
   ]
  },
  {
   "cell_type": "code",
   "execution_count": 29,
   "id": "e574e01f-1b8e-4ed5-950e-9f492fe3a443",
   "metadata": {},
   "outputs": [
    {
     "data": {
      "text/html": [
       "<div>\n",
       "<style scoped>\n",
       "    .dataframe tbody tr th:only-of-type {\n",
       "        vertical-align: middle;\n",
       "    }\n",
       "\n",
       "    .dataframe tbody tr th {\n",
       "        vertical-align: top;\n",
       "    }\n",
       "\n",
       "    .dataframe thead th {\n",
       "        text-align: right;\n",
       "    }\n",
       "</style>\n",
       "<table border=\"1\" class=\"dataframe\">\n",
       "  <thead>\n",
       "    <tr style=\"text-align: right;\">\n",
       "      <th></th>\n",
       "      <th>count</th>\n",
       "      <th>mean</th>\n",
       "      <th>std</th>\n",
       "      <th>min</th>\n",
       "      <th>25%</th>\n",
       "      <th>50%</th>\n",
       "      <th>75%</th>\n",
       "      <th>max</th>\n",
       "    </tr>\n",
       "    <tr>\n",
       "      <th>task_type</th>\n",
       "      <th></th>\n",
       "      <th></th>\n",
       "      <th></th>\n",
       "      <th></th>\n",
       "      <th></th>\n",
       "      <th></th>\n",
       "      <th></th>\n",
       "      <th></th>\n",
       "    </tr>\n",
       "  </thead>\n",
       "  <tbody>\n",
       "    <tr>\n",
       "      <th>inference</th>\n",
       "      <td>1656.0</td>\n",
       "      <td>4.166872</td>\n",
       "      <td>0.731565</td>\n",
       "      <td>3.036186</td>\n",
       "      <td>3.783522</td>\n",
       "      <td>4.045771</td>\n",
       "      <td>4.345036</td>\n",
       "      <td>8.492600</td>\n",
       "    </tr>\n",
       "    <tr>\n",
       "      <th>simulation</th>\n",
       "      <td>520.0</td>\n",
       "      <td>0.123639</td>\n",
       "      <td>0.220460</td>\n",
       "      <td>0.033463</td>\n",
       "      <td>0.061188</td>\n",
       "      <td>0.080813</td>\n",
       "      <td>0.105583</td>\n",
       "      <td>2.262440</td>\n",
       "    </tr>\n",
       "    <tr>\n",
       "      <th>training</th>\n",
       "      <td>72.0</td>\n",
       "      <td>0.345647</td>\n",
       "      <td>0.042953</td>\n",
       "      <td>0.276532</td>\n",
       "      <td>0.325299</td>\n",
       "      <td>0.342067</td>\n",
       "      <td>0.356902</td>\n",
       "      <td>0.600647</td>\n",
       "    </tr>\n",
       "  </tbody>\n",
       "</table>\n",
       "</div>"
      ],
      "text/plain": [
       "             count      mean       std       min       25%       50%  \\\n",
       "task_type                                                              \n",
       "inference   1656.0  4.166872  0.731565  3.036186  3.783522  4.045771   \n",
       "simulation   520.0  0.123639  0.220460  0.033463  0.061188  0.080813   \n",
       "training      72.0  0.345647  0.042953  0.276532  0.325299  0.342067   \n",
       "\n",
       "                 75%       max  \n",
       "task_type                       \n",
       "inference   4.345036  8.492600  \n",
       "simulation  0.105583  2.262440  \n",
       "training    0.356902  0.600647  "
      ]
     },
     "execution_count": 29,
     "metadata": {},
     "output_type": "execute_result"
    }
   ],
   "source": [
    "parsl_tasks.groupby('task_type')['latency_data'].describe()"
   ]
  },
  {
   "cell_type": "code",
   "execution_count": 30,
   "id": "e6344c9e-c67e-42ed-931e-f823e21aaf7d",
   "metadata": {},
   "outputs": [
    {
     "data": {
      "text/html": [
       "<div>\n",
       "<style scoped>\n",
       "    .dataframe tbody tr th:only-of-type {\n",
       "        vertical-align: middle;\n",
       "    }\n",
       "\n",
       "    .dataframe tbody tr th {\n",
       "        vertical-align: top;\n",
       "    }\n",
       "\n",
       "    .dataframe thead th {\n",
       "        text-align: right;\n",
       "    }\n",
       "</style>\n",
       "<table border=\"1\" class=\"dataframe\">\n",
       "  <thead>\n",
       "    <tr style=\"text-align: right;\">\n",
       "      <th></th>\n",
       "      <th>count</th>\n",
       "      <th>mean</th>\n",
       "      <th>std</th>\n",
       "      <th>min</th>\n",
       "      <th>25%</th>\n",
       "      <th>50%</th>\n",
       "      <th>75%</th>\n",
       "      <th>max</th>\n",
       "    </tr>\n",
       "    <tr>\n",
       "      <th>task_type</th>\n",
       "      <th></th>\n",
       "      <th></th>\n",
       "      <th></th>\n",
       "      <th></th>\n",
       "      <th></th>\n",
       "      <th></th>\n",
       "      <th></th>\n",
       "      <th></th>\n",
       "    </tr>\n",
       "  </thead>\n",
       "  <tbody>\n",
       "    <tr>\n",
       "      <th>inference</th>\n",
       "      <td>1656.0</td>\n",
       "      <td>0.547603</td>\n",
       "      <td>0.130358</td>\n",
       "      <td>0.411820</td>\n",
       "      <td>0.469333</td>\n",
       "      <td>0.496066</td>\n",
       "      <td>0.561418</td>\n",
       "      <td>2.099841</td>\n",
       "    </tr>\n",
       "    <tr>\n",
       "      <th>simulation</th>\n",
       "      <td>520.0</td>\n",
       "      <td>0.115666</td>\n",
       "      <td>0.219576</td>\n",
       "      <td>0.030423</td>\n",
       "      <td>0.054433</td>\n",
       "      <td>0.073139</td>\n",
       "      <td>0.096802</td>\n",
       "      <td>2.257961</td>\n",
       "    </tr>\n",
       "    <tr>\n",
       "      <th>training</th>\n",
       "      <td>72.0</td>\n",
       "      <td>0.075453</td>\n",
       "      <td>0.023024</td>\n",
       "      <td>0.047805</td>\n",
       "      <td>0.065740</td>\n",
       "      <td>0.073499</td>\n",
       "      <td>0.080847</td>\n",
       "      <td>0.239846</td>\n",
       "    </tr>\n",
       "  </tbody>\n",
       "</table>\n",
       "</div>"
      ],
      "text/plain": [
       "             count      mean       std       min       25%       50%  \\\n",
       "task_type                                                              \n",
       "inference   1656.0  0.547603  0.130358  0.411820  0.469333  0.496066   \n",
       "simulation   520.0  0.115666  0.219576  0.030423  0.054433  0.073139   \n",
       "training      72.0  0.075453  0.023024  0.047805  0.065740  0.073499   \n",
       "\n",
       "                 75%       max  \n",
       "task_type                       \n",
       "inference   0.561418  2.099841  \n",
       "simulation  0.096802  2.257961  \n",
       "training    0.080847  0.239846  "
      ]
     },
     "execution_count": 30,
     "metadata": {},
     "output_type": "execute_result"
    }
   ],
   "source": [
    "parsl_tasks.groupby('task_type')['latency_to_task_server'].describe()"
   ]
  },
  {
   "cell_type": "markdown",
   "id": "9f2fd81a-77ee-4ddb-85c0-1eeeb706f8fb",
   "metadata": {},
   "source": [
    "Parsl with Redis is _much_ better for the resolution times. Not that we should be too surprised."
   ]
  },
  {
   "cell_type": "markdown",
   "id": "09402b9e-dbb4-423a-97b2-0b25ad5c716c",
   "metadata": {
    "tags": []
   },
   "source": [
    "## Measure Time to Decisions\n",
    "We have a few steps where the Thinker must quickly decide the next task.\n",
    "\n",
    "### Simulation Deployment\n",
    "We are going to measure the time in the log file between when a simulation finishes and the next is received by the task server.latency_result_sending"
   ]
  },
  {
   "cell_type": "code",
   "execution_count": 31,
   "id": "6b28e525-1d8a-4ebe-9537-a2087165e6f1",
   "metadata": {},
   "outputs": [
    {
     "ename": "ValueError",
     "evalue": "zero-size array to reduction operation minimum which has no identity",
     "output_type": "error",
     "traceback": [
      "\u001b[0;31m---------------------------------------------------------------------------\u001b[0m",
      "\u001b[0;31mValueError\u001b[0m                                Traceback (most recent call last)",
      "\u001b[0;32m/tmp/ipykernel_12172/1638427541.py\u001b[0m in \u001b[0;36m<module>\u001b[0;34m\u001b[0m\n\u001b[1;32m     37\u001b[0m         \u001b[0;34m'to_funcx'\u001b[0m\u001b[0;34m:\u001b[0m \u001b[0mfuncx_times\u001b[0m\u001b[0;34m\u001b[0m\u001b[0;34m\u001b[0m\u001b[0m\n\u001b[1;32m     38\u001b[0m     })\n\u001b[0;32m---> 39\u001b[0;31m \u001b[0mfuncx_sim_decision\u001b[0m \u001b[0;34m=\u001b[0m \u001b[0mget_simulation_decision_times\u001b[0m\u001b[0;34m(\u001b[0m\u001b[0mfuncx\u001b[0m\u001b[0;34m)\u001b[0m\u001b[0;34m\u001b[0m\u001b[0;34m\u001b[0m\u001b[0m\n\u001b[0m",
      "\u001b[0;32m/tmp/ipykernel_12172/1638427541.py\u001b[0m in \u001b[0;36mget_simulation_decision_times\u001b[0;34m(path, tz_offset)\u001b[0m\n\u001b[1;32m     27\u001b[0m     \u001b[0mto_funcx\u001b[0m \u001b[0;34m=\u001b[0m \u001b[0mnp\u001b[0m\u001b[0;34m.\u001b[0m\u001b[0marray\u001b[0m\u001b[0;34m(\u001b[0m\u001b[0mto_funcx\u001b[0m\u001b[0;34m)\u001b[0m\u001b[0;34m\u001b[0m\u001b[0;34m\u001b[0m\u001b[0m\n\u001b[1;32m     28\u001b[0m     decision_times = [\n\u001b[0;32m---> 29\u001b[0;31m         \u001b[0mnp\u001b[0m\u001b[0;34m.\u001b[0m\u001b[0mmin\u001b[0m\u001b[0;34m(\u001b[0m\u001b[0mto_task\u001b[0m\u001b[0;34m[\u001b[0m\u001b[0mto_task\u001b[0m \u001b[0;34m>\u001b[0m \u001b[0mx\u001b[0m\u001b[0;34m]\u001b[0m \u001b[0;34m-\u001b[0m \u001b[0mx\u001b[0m\u001b[0;34m)\u001b[0m \u001b[0;32mfor\u001b[0m \u001b[0mx\u001b[0m \u001b[0;32min\u001b[0m \u001b[0mreceive_times\u001b[0m\u001b[0;34m[\u001b[0m\u001b[0;34m:\u001b[0m\u001b[0mlen\u001b[0m\u001b[0;34m(\u001b[0m\u001b[0mto_task\u001b[0m\u001b[0;34m)\u001b[0m \u001b[0;34m//\u001b[0m \u001b[0;36m10\u001b[0m \u001b[0;34m*\u001b[0m \u001b[0;36m8\u001b[0m\u001b[0;34m]\u001b[0m\u001b[0;34m\u001b[0m\u001b[0;34m\u001b[0m\u001b[0m\n\u001b[0m\u001b[1;32m     30\u001b[0m     ]\n\u001b[1;32m     31\u001b[0m     funcx_times = [\n",
      "\u001b[0;32m/tmp/ipykernel_12172/1638427541.py\u001b[0m in \u001b[0;36m<listcomp>\u001b[0;34m(.0)\u001b[0m\n\u001b[1;32m     27\u001b[0m     \u001b[0mto_funcx\u001b[0m \u001b[0;34m=\u001b[0m \u001b[0mnp\u001b[0m\u001b[0;34m.\u001b[0m\u001b[0marray\u001b[0m\u001b[0;34m(\u001b[0m\u001b[0mto_funcx\u001b[0m\u001b[0;34m)\u001b[0m\u001b[0;34m\u001b[0m\u001b[0;34m\u001b[0m\u001b[0m\n\u001b[1;32m     28\u001b[0m     decision_times = [\n\u001b[0;32m---> 29\u001b[0;31m         \u001b[0mnp\u001b[0m\u001b[0;34m.\u001b[0m\u001b[0mmin\u001b[0m\u001b[0;34m(\u001b[0m\u001b[0mto_task\u001b[0m\u001b[0;34m[\u001b[0m\u001b[0mto_task\u001b[0m \u001b[0;34m>\u001b[0m \u001b[0mx\u001b[0m\u001b[0;34m]\u001b[0m \u001b[0;34m-\u001b[0m \u001b[0mx\u001b[0m\u001b[0;34m)\u001b[0m \u001b[0;32mfor\u001b[0m \u001b[0mx\u001b[0m \u001b[0;32min\u001b[0m \u001b[0mreceive_times\u001b[0m\u001b[0;34m[\u001b[0m\u001b[0;34m:\u001b[0m\u001b[0mlen\u001b[0m\u001b[0;34m(\u001b[0m\u001b[0mto_task\u001b[0m\u001b[0;34m)\u001b[0m \u001b[0;34m//\u001b[0m \u001b[0;36m10\u001b[0m \u001b[0;34m*\u001b[0m \u001b[0;36m8\u001b[0m\u001b[0;34m]\u001b[0m\u001b[0;34m\u001b[0m\u001b[0;34m\u001b[0m\u001b[0m\n\u001b[0m\u001b[1;32m     30\u001b[0m     ]\n\u001b[1;32m     31\u001b[0m     funcx_times = [\n",
      "\u001b[0;32m<__array_function__ internals>\u001b[0m in \u001b[0;36mamin\u001b[0;34m(*args, **kwargs)\u001b[0m\n",
      "\u001b[0;32m/opt/anaconda3x/lib/python3.7/site-packages/numpy/core/fromnumeric.py\u001b[0m in \u001b[0;36mamin\u001b[0;34m(a, axis, out, keepdims, initial, where)\u001b[0m\n\u001b[1;32m   2857\u001b[0m     \"\"\"\n\u001b[1;32m   2858\u001b[0m     return _wrapreduction(a, np.minimum, 'min', axis, None, out,\n\u001b[0;32m-> 2859\u001b[0;31m                           keepdims=keepdims, initial=initial, where=where)\n\u001b[0m\u001b[1;32m   2860\u001b[0m \u001b[0;34m\u001b[0m\u001b[0m\n\u001b[1;32m   2861\u001b[0m \u001b[0;34m\u001b[0m\u001b[0m\n",
      "\u001b[0;32m/opt/anaconda3x/lib/python3.7/site-packages/numpy/core/fromnumeric.py\u001b[0m in \u001b[0;36m_wrapreduction\u001b[0;34m(obj, ufunc, method, axis, dtype, out, **kwargs)\u001b[0m\n\u001b[1;32m     85\u001b[0m                 \u001b[0;32mreturn\u001b[0m \u001b[0mreduction\u001b[0m\u001b[0;34m(\u001b[0m\u001b[0maxis\u001b[0m\u001b[0;34m=\u001b[0m\u001b[0maxis\u001b[0m\u001b[0;34m,\u001b[0m \u001b[0mout\u001b[0m\u001b[0;34m=\u001b[0m\u001b[0mout\u001b[0m\u001b[0;34m,\u001b[0m \u001b[0;34m**\u001b[0m\u001b[0mpasskwargs\u001b[0m\u001b[0;34m)\u001b[0m\u001b[0;34m\u001b[0m\u001b[0;34m\u001b[0m\u001b[0m\n\u001b[1;32m     86\u001b[0m \u001b[0;34m\u001b[0m\u001b[0m\n\u001b[0;32m---> 87\u001b[0;31m     \u001b[0;32mreturn\u001b[0m \u001b[0mufunc\u001b[0m\u001b[0;34m.\u001b[0m\u001b[0mreduce\u001b[0m\u001b[0;34m(\u001b[0m\u001b[0mobj\u001b[0m\u001b[0;34m,\u001b[0m \u001b[0maxis\u001b[0m\u001b[0;34m,\u001b[0m \u001b[0mdtype\u001b[0m\u001b[0;34m,\u001b[0m \u001b[0mout\u001b[0m\u001b[0;34m,\u001b[0m \u001b[0;34m**\u001b[0m\u001b[0mpasskwargs\u001b[0m\u001b[0;34m)\u001b[0m\u001b[0;34m\u001b[0m\u001b[0;34m\u001b[0m\u001b[0m\n\u001b[0m\u001b[1;32m     88\u001b[0m \u001b[0;34m\u001b[0m\u001b[0m\n\u001b[1;32m     89\u001b[0m \u001b[0;34m\u001b[0m\u001b[0m\n",
      "\u001b[0;31mValueError\u001b[0m: zero-size array to reduction operation minimum which has no identity"
     ]
    }
   ],
   "source": [
    "def get_simulation_decision_times(path: Path, tz_offset: float = -18000) -> pd.DataFrame:\n",
    "    \"\"\"Compute the time between when a simulation is received\n",
    "    and the next one sent off\n",
    "    \n",
    "    Args:\n",
    "        path: Path to run directory\n",
    "        tz_offset: In case logs and results are in different timezones (ugh)\n",
    "    Returns:\n",
    "        Dataframe with a 'to_task_server' and 'to_funcx' column\n",
    "    \"\"\"\n",
    "\n",
    "    # Get the time a simulation was placed in the Redis queue\n",
    "    receive_times = pd.read_json(path / 'simulation-results.json', lines=True)['time_result_sent'] - tz_offset\n",
    "    \n",
    "    # Get the times\n",
    "    to_task = []\n",
    "    to_funcx = []\n",
    "    with open(path / 'runtime.log') as fp:\n",
    "        for x in fp:\n",
    "            if 'Client sent a run_simulation ' in x:\n",
    "                to_task.append(datetime.strptime(x.split(\" - \")[0], \"%Y-%m-%d %H:%M:%S,%f\").timestamp())\n",
    "            elif 'Submitted run_simulation to run' in x:\n",
    "                to_funcx.append(datetime.strptime(x.split(\" - \")[0], \"%Y-%m-%d %H:%M:%S,%f\").timestamp())\n",
    "    \n",
    "    # Compute the reaction times\n",
    "    to_task = np.array(to_task)\n",
    "    to_funcx = np.array(to_funcx)\n",
    "    decision_times = [\n",
    "        np.min(to_task[to_task > x] - x) for x in receive_times[:len(to_task) // 10 * 8]\n",
    "    ]\n",
    "    funcx_times = [\n",
    "        np.min(to_funcx[to_funcx > x] - x) for x in receive_times[:len(to_task) // 10 * 8]\n",
    "    ]\n",
    "    \n",
    "    return pd.DataFrame({\n",
    "        'to_decision': decision_times,\n",
    "        'to_funcx': funcx_times\n",
    "    })\n",
    "funcx_sim_decision = get_simulation_decision_times(funcx)"
   ]
  },
  {
   "cell_type": "code",
   "execution_count": 32,
   "id": "d28de1a0-ce17-47af-acd4-047b7f90375a",
   "metadata": {},
   "outputs": [
    {
     "ename": "NameError",
     "evalue": "name 'funcx_sim_decision' is not defined",
     "output_type": "error",
     "traceback": [
      "\u001b[0;31m---------------------------------------------------------------------------\u001b[0m",
      "\u001b[0;31mNameError\u001b[0m                                 Traceback (most recent call last)",
      "\u001b[0;32m/tmp/ipykernel_12172/3909225494.py\u001b[0m in \u001b[0;36m<module>\u001b[0;34m\u001b[0m\n\u001b[0;32m----> 1\u001b[0;31m \u001b[0mfuncx_sim_decision\u001b[0m\u001b[0;34m.\u001b[0m\u001b[0mdescribe\u001b[0m\u001b[0;34m(\u001b[0m\u001b[0;34m[\u001b[0m\u001b[0;36m0.25\u001b[0m\u001b[0;34m,\u001b[0m \u001b[0;36m0.50\u001b[0m\u001b[0;34m,\u001b[0m \u001b[0;36m0.95\u001b[0m\u001b[0;34m]\u001b[0m\u001b[0;34m)\u001b[0m\u001b[0;34m\u001b[0m\u001b[0;34m\u001b[0m\u001b[0m\n\u001b[0m",
      "\u001b[0;31mNameError\u001b[0m: name 'funcx_sim_decision' is not defined"
     ]
    }
   ],
   "source": [
    "funcx_sim_decision.describe([0.25, 0.50, 0.95])"
   ]
  },
  {
   "cell_type": "markdown",
   "id": "e320e447-1c63-44bf-8428-7d2b0c8f087d",
   "metadata": {},
   "source": [
    "### Training Response\n",
    "How long between trained model and the first evaluate_mpnn submitted."
   ]
  },
  {
   "cell_type": "code",
   "execution_count": 33,
   "id": "ea58df3d-72bc-43bc-bb6f-7e9355db72a9",
   "metadata": {},
   "outputs": [
    {
     "ename": "ValueError",
     "evalue": "operands could not be broadcast together with shapes (0,) (64,) ",
     "output_type": "error",
     "traceback": [
      "\u001b[0;31m---------------------------------------------------------------------------\u001b[0m",
      "\u001b[0;31mValueError\u001b[0m                                Traceback (most recent call last)",
      "\u001b[0;32m/tmp/ipykernel_12172/1976242407.py\u001b[0m in \u001b[0;36m<module>\u001b[0;34m\u001b[0m\n\u001b[1;32m     40\u001b[0m         \u001b[0;34m'to_funcx'\u001b[0m\u001b[0;34m:\u001b[0m \u001b[0mfuncx_times\u001b[0m\u001b[0;34m\u001b[0m\u001b[0;34m\u001b[0m\u001b[0m\n\u001b[1;32m     41\u001b[0m     })\n\u001b[0;32m---> 42\u001b[0;31m \u001b[0mfuncx_train_decision\u001b[0m \u001b[0;34m=\u001b[0m \u001b[0mget_training_decision_times\u001b[0m\u001b[0;34m(\u001b[0m\u001b[0mfuncx\u001b[0m\u001b[0;34m)\u001b[0m\u001b[0;34m\u001b[0m\u001b[0;34m\u001b[0m\u001b[0m\n\u001b[0m",
      "\u001b[0;32m/tmp/ipykernel_12172/1976242407.py\u001b[0m in \u001b[0;36mget_training_decision_times\u001b[0;34m(path, n_tasks, tz_offset)\u001b[0m\n\u001b[1;32m     33\u001b[0m     \u001b[0mresolve_times\u001b[0m \u001b[0;34m=\u001b[0m \u001b[0mnp\u001b[0m\u001b[0;34m.\u001b[0m\u001b[0msubtract\u001b[0m\u001b[0;34m(\u001b[0m\u001b[0mto_process\u001b[0m\u001b[0;34m,\u001b[0m \u001b[0mreceive_times\u001b[0m\u001b[0;34m)\u001b[0m\u001b[0;34m\u001b[0m\u001b[0;34m\u001b[0m\u001b[0m\n\u001b[1;32m     34\u001b[0m     \u001b[0mdecision_times\u001b[0m \u001b[0;34m=\u001b[0m \u001b[0mnp\u001b[0m\u001b[0;34m.\u001b[0m\u001b[0msubtract\u001b[0m\u001b[0;34m(\u001b[0m\u001b[0mto_task\u001b[0m\u001b[0;34m,\u001b[0m \u001b[0mreceive_times\u001b[0m\u001b[0;34m[\u001b[0m\u001b[0;34m:\u001b[0m\u001b[0mlen\u001b[0m\u001b[0;34m(\u001b[0m\u001b[0mto_task\u001b[0m\u001b[0;34m)\u001b[0m\u001b[0;34m]\u001b[0m\u001b[0;34m)\u001b[0m\u001b[0;34m\u001b[0m\u001b[0;34m\u001b[0m\u001b[0m\n\u001b[0;32m---> 35\u001b[0;31m     \u001b[0mfuncx_times\u001b[0m \u001b[0;34m=\u001b[0m \u001b[0mnp\u001b[0m\u001b[0;34m.\u001b[0m\u001b[0msubtract\u001b[0m\u001b[0;34m(\u001b[0m\u001b[0mto_funcx\u001b[0m\u001b[0;34m,\u001b[0m \u001b[0mreceive_times\u001b[0m\u001b[0;34m[\u001b[0m\u001b[0;34m:\u001b[0m\u001b[0mlen\u001b[0m\u001b[0;34m(\u001b[0m\u001b[0mto_task\u001b[0m\u001b[0;34m)\u001b[0m\u001b[0;34m]\u001b[0m\u001b[0;34m)\u001b[0m\u001b[0;34m\u001b[0m\u001b[0;34m\u001b[0m\u001b[0m\n\u001b[0m\u001b[1;32m     36\u001b[0m \u001b[0;34m\u001b[0m\u001b[0m\n\u001b[1;32m     37\u001b[0m     return pd.DataFrame({\n",
      "\u001b[0;32m/opt/anaconda3x/lib/python3.7/site-packages/pandas/core/generic.py\u001b[0m in \u001b[0;36m__array_ufunc__\u001b[0;34m(self, ufunc, method, *inputs, **kwargs)\u001b[0m\n\u001b[1;32m   2030\u001b[0m         \u001b[0mself\u001b[0m\u001b[0;34m,\u001b[0m \u001b[0mufunc\u001b[0m\u001b[0;34m:\u001b[0m \u001b[0mnp\u001b[0m\u001b[0;34m.\u001b[0m\u001b[0mufunc\u001b[0m\u001b[0;34m,\u001b[0m \u001b[0mmethod\u001b[0m\u001b[0;34m:\u001b[0m \u001b[0mstr\u001b[0m\u001b[0;34m,\u001b[0m \u001b[0;34m*\u001b[0m\u001b[0minputs\u001b[0m\u001b[0;34m:\u001b[0m \u001b[0mAny\u001b[0m\u001b[0;34m,\u001b[0m \u001b[0;34m**\u001b[0m\u001b[0mkwargs\u001b[0m\u001b[0;34m:\u001b[0m \u001b[0mAny\u001b[0m\u001b[0;34m\u001b[0m\u001b[0;34m\u001b[0m\u001b[0m\n\u001b[1;32m   2031\u001b[0m     ):\n\u001b[0;32m-> 2032\u001b[0;31m         \u001b[0;32mreturn\u001b[0m \u001b[0marraylike\u001b[0m\u001b[0;34m.\u001b[0m\u001b[0marray_ufunc\u001b[0m\u001b[0;34m(\u001b[0m\u001b[0mself\u001b[0m\u001b[0;34m,\u001b[0m \u001b[0mufunc\u001b[0m\u001b[0;34m,\u001b[0m \u001b[0mmethod\u001b[0m\u001b[0;34m,\u001b[0m \u001b[0;34m*\u001b[0m\u001b[0minputs\u001b[0m\u001b[0;34m,\u001b[0m \u001b[0;34m**\u001b[0m\u001b[0mkwargs\u001b[0m\u001b[0;34m)\u001b[0m\u001b[0;34m\u001b[0m\u001b[0;34m\u001b[0m\u001b[0m\n\u001b[0m\u001b[1;32m   2033\u001b[0m \u001b[0;34m\u001b[0m\u001b[0m\n\u001b[1;32m   2034\u001b[0m     \u001b[0;31m# ideally we would define this to avoid the getattr checks, but\u001b[0m\u001b[0;34m\u001b[0m\u001b[0;34m\u001b[0m\u001b[0;34m\u001b[0m\u001b[0m\n",
      "\u001b[0;32m/opt/anaconda3x/lib/python3.7/site-packages/pandas/core/arraylike.py\u001b[0m in \u001b[0;36marray_ufunc\u001b[0;34m(self, ufunc, method, *inputs, **kwargs)\u001b[0m\n\u001b[1;32m    251\u001b[0m \u001b[0;34m\u001b[0m\u001b[0m\n\u001b[1;32m    252\u001b[0m     \u001b[0;31m# for binary ops, use our custom dunder methods\u001b[0m\u001b[0;34m\u001b[0m\u001b[0;34m\u001b[0m\u001b[0;34m\u001b[0m\u001b[0m\n\u001b[0;32m--> 253\u001b[0;31m     \u001b[0mresult\u001b[0m \u001b[0;34m=\u001b[0m \u001b[0mmaybe_dispatch_ufunc_to_dunder_op\u001b[0m\u001b[0;34m(\u001b[0m\u001b[0mself\u001b[0m\u001b[0;34m,\u001b[0m \u001b[0mufunc\u001b[0m\u001b[0;34m,\u001b[0m \u001b[0mmethod\u001b[0m\u001b[0;34m,\u001b[0m \u001b[0;34m*\u001b[0m\u001b[0minputs\u001b[0m\u001b[0;34m,\u001b[0m \u001b[0;34m**\u001b[0m\u001b[0mkwargs\u001b[0m\u001b[0;34m)\u001b[0m\u001b[0;34m\u001b[0m\u001b[0;34m\u001b[0m\u001b[0m\n\u001b[0m\u001b[1;32m    254\u001b[0m     \u001b[0;32mif\u001b[0m \u001b[0mresult\u001b[0m \u001b[0;32mis\u001b[0m \u001b[0;32mnot\u001b[0m \u001b[0mNotImplemented\u001b[0m\u001b[0;34m:\u001b[0m\u001b[0;34m\u001b[0m\u001b[0;34m\u001b[0m\u001b[0m\n\u001b[1;32m    255\u001b[0m         \u001b[0;32mreturn\u001b[0m \u001b[0mresult\u001b[0m\u001b[0;34m\u001b[0m\u001b[0;34m\u001b[0m\u001b[0m\n",
      "\u001b[0;32m/opt/anaconda3x/lib/python3.7/site-packages/pandas/_libs/ops_dispatch.pyx\u001b[0m in \u001b[0;36mpandas._libs.ops_dispatch.maybe_dispatch_ufunc_to_dunder_op\u001b[0;34m()\u001b[0m\n",
      "\u001b[0;32m/opt/anaconda3x/lib/python3.7/site-packages/pandas/core/ops/common.py\u001b[0m in \u001b[0;36mnew_method\u001b[0;34m(self, other)\u001b[0m\n\u001b[1;32m     67\u001b[0m         \u001b[0mother\u001b[0m \u001b[0;34m=\u001b[0m \u001b[0mitem_from_zerodim\u001b[0m\u001b[0;34m(\u001b[0m\u001b[0mother\u001b[0m\u001b[0;34m)\u001b[0m\u001b[0;34m\u001b[0m\u001b[0;34m\u001b[0m\u001b[0m\n\u001b[1;32m     68\u001b[0m \u001b[0;34m\u001b[0m\u001b[0m\n\u001b[0;32m---> 69\u001b[0;31m         \u001b[0;32mreturn\u001b[0m \u001b[0mmethod\u001b[0m\u001b[0;34m(\u001b[0m\u001b[0mself\u001b[0m\u001b[0;34m,\u001b[0m \u001b[0mother\u001b[0m\u001b[0;34m)\u001b[0m\u001b[0;34m\u001b[0m\u001b[0;34m\u001b[0m\u001b[0m\n\u001b[0m\u001b[1;32m     70\u001b[0m \u001b[0;34m\u001b[0m\u001b[0m\n\u001b[1;32m     71\u001b[0m     \u001b[0;32mreturn\u001b[0m \u001b[0mnew_method\u001b[0m\u001b[0;34m\u001b[0m\u001b[0;34m\u001b[0m\u001b[0m\n",
      "\u001b[0;32m/opt/anaconda3x/lib/python3.7/site-packages/pandas/core/arraylike.py\u001b[0m in \u001b[0;36m__rsub__\u001b[0;34m(self, other)\u001b[0m\n\u001b[1;32m    102\u001b[0m     \u001b[0;34m@\u001b[0m\u001b[0munpack_zerodim_and_defer\u001b[0m\u001b[0;34m(\u001b[0m\u001b[0;34m\"__rsub__\"\u001b[0m\u001b[0;34m)\u001b[0m\u001b[0;34m\u001b[0m\u001b[0;34m\u001b[0m\u001b[0m\n\u001b[1;32m    103\u001b[0m     \u001b[0;32mdef\u001b[0m \u001b[0m__rsub__\u001b[0m\u001b[0;34m(\u001b[0m\u001b[0mself\u001b[0m\u001b[0;34m,\u001b[0m \u001b[0mother\u001b[0m\u001b[0;34m)\u001b[0m\u001b[0;34m:\u001b[0m\u001b[0;34m\u001b[0m\u001b[0;34m\u001b[0m\u001b[0m\n\u001b[0;32m--> 104\u001b[0;31m         \u001b[0;32mreturn\u001b[0m \u001b[0mself\u001b[0m\u001b[0;34m.\u001b[0m\u001b[0m_arith_method\u001b[0m\u001b[0;34m(\u001b[0m\u001b[0mother\u001b[0m\u001b[0;34m,\u001b[0m \u001b[0mroperator\u001b[0m\u001b[0;34m.\u001b[0m\u001b[0mrsub\u001b[0m\u001b[0;34m)\u001b[0m\u001b[0;34m\u001b[0m\u001b[0;34m\u001b[0m\u001b[0m\n\u001b[0m\u001b[1;32m    105\u001b[0m \u001b[0;34m\u001b[0m\u001b[0m\n\u001b[1;32m    106\u001b[0m     \u001b[0;34m@\u001b[0m\u001b[0munpack_zerodim_and_defer\u001b[0m\u001b[0;34m(\u001b[0m\u001b[0;34m\"__mul__\"\u001b[0m\u001b[0;34m)\u001b[0m\u001b[0;34m\u001b[0m\u001b[0;34m\u001b[0m\u001b[0m\n",
      "\u001b[0;32m/opt/anaconda3x/lib/python3.7/site-packages/pandas/core/series.py\u001b[0m in \u001b[0;36m_arith_method\u001b[0;34m(self, other, op)\u001b[0m\n\u001b[1;32m   5524\u001b[0m \u001b[0;34m\u001b[0m\u001b[0m\n\u001b[1;32m   5525\u001b[0m         \u001b[0;32mwith\u001b[0m \u001b[0mnp\u001b[0m\u001b[0;34m.\u001b[0m\u001b[0merrstate\u001b[0m\u001b[0;34m(\u001b[0m\u001b[0mall\u001b[0m\u001b[0;34m=\u001b[0m\u001b[0;34m\"ignore\"\u001b[0m\u001b[0;34m)\u001b[0m\u001b[0;34m:\u001b[0m\u001b[0;34m\u001b[0m\u001b[0;34m\u001b[0m\u001b[0m\n\u001b[0;32m-> 5526\u001b[0;31m             \u001b[0mresult\u001b[0m \u001b[0;34m=\u001b[0m \u001b[0mops\u001b[0m\u001b[0;34m.\u001b[0m\u001b[0marithmetic_op\u001b[0m\u001b[0;34m(\u001b[0m\u001b[0mlvalues\u001b[0m\u001b[0;34m,\u001b[0m \u001b[0mrvalues\u001b[0m\u001b[0;34m,\u001b[0m \u001b[0mop\u001b[0m\u001b[0;34m)\u001b[0m\u001b[0;34m\u001b[0m\u001b[0;34m\u001b[0m\u001b[0m\n\u001b[0m\u001b[1;32m   5527\u001b[0m \u001b[0;34m\u001b[0m\u001b[0m\n\u001b[1;32m   5528\u001b[0m         \u001b[0;32mreturn\u001b[0m \u001b[0mself\u001b[0m\u001b[0;34m.\u001b[0m\u001b[0m_construct_result\u001b[0m\u001b[0;34m(\u001b[0m\u001b[0mresult\u001b[0m\u001b[0;34m,\u001b[0m \u001b[0mname\u001b[0m\u001b[0;34m=\u001b[0m\u001b[0mres_name\u001b[0m\u001b[0;34m)\u001b[0m\u001b[0;34m\u001b[0m\u001b[0;34m\u001b[0m\u001b[0m\n",
      "\u001b[0;32m/opt/anaconda3x/lib/python3.7/site-packages/pandas/core/ops/array_ops.py\u001b[0m in \u001b[0;36marithmetic_op\u001b[0;34m(left, right, op)\u001b[0m\n\u001b[1;32m    222\u001b[0m         \u001b[0m_bool_arith_check\u001b[0m\u001b[0;34m(\u001b[0m\u001b[0mop\u001b[0m\u001b[0;34m,\u001b[0m \u001b[0mleft\u001b[0m\u001b[0;34m,\u001b[0m \u001b[0mright\u001b[0m\u001b[0;34m)\u001b[0m\u001b[0;34m\u001b[0m\u001b[0;34m\u001b[0m\u001b[0m\n\u001b[1;32m    223\u001b[0m \u001b[0;34m\u001b[0m\u001b[0m\n\u001b[0;32m--> 224\u001b[0;31m         \u001b[0mres_values\u001b[0m \u001b[0;34m=\u001b[0m \u001b[0m_na_arithmetic_op\u001b[0m\u001b[0;34m(\u001b[0m\u001b[0mleft\u001b[0m\u001b[0;34m,\u001b[0m \u001b[0mright\u001b[0m\u001b[0;34m,\u001b[0m \u001b[0mop\u001b[0m\u001b[0;34m)\u001b[0m\u001b[0;34m\u001b[0m\u001b[0;34m\u001b[0m\u001b[0m\n\u001b[0m\u001b[1;32m    225\u001b[0m \u001b[0;34m\u001b[0m\u001b[0m\n\u001b[1;32m    226\u001b[0m     \u001b[0;32mreturn\u001b[0m \u001b[0mres_values\u001b[0m\u001b[0;34m\u001b[0m\u001b[0;34m\u001b[0m\u001b[0m\n",
      "\u001b[0;32m/opt/anaconda3x/lib/python3.7/site-packages/pandas/core/ops/array_ops.py\u001b[0m in \u001b[0;36m_na_arithmetic_op\u001b[0;34m(left, right, op, is_cmp)\u001b[0m\n\u001b[1;32m    164\u001b[0m \u001b[0;34m\u001b[0m\u001b[0m\n\u001b[1;32m    165\u001b[0m     \u001b[0;32mtry\u001b[0m\u001b[0;34m:\u001b[0m\u001b[0;34m\u001b[0m\u001b[0;34m\u001b[0m\u001b[0m\n\u001b[0;32m--> 166\u001b[0;31m         \u001b[0mresult\u001b[0m \u001b[0;34m=\u001b[0m \u001b[0mfunc\u001b[0m\u001b[0;34m(\u001b[0m\u001b[0mleft\u001b[0m\u001b[0;34m,\u001b[0m \u001b[0mright\u001b[0m\u001b[0;34m)\u001b[0m\u001b[0;34m\u001b[0m\u001b[0;34m\u001b[0m\u001b[0m\n\u001b[0m\u001b[1;32m    167\u001b[0m     \u001b[0;32mexcept\u001b[0m \u001b[0mTypeError\u001b[0m\u001b[0;34m:\u001b[0m\u001b[0;34m\u001b[0m\u001b[0;34m\u001b[0m\u001b[0m\n\u001b[1;32m    168\u001b[0m         \u001b[0;32mif\u001b[0m \u001b[0mis_object_dtype\u001b[0m\u001b[0;34m(\u001b[0m\u001b[0mleft\u001b[0m\u001b[0;34m)\u001b[0m \u001b[0;32mor\u001b[0m \u001b[0mis_object_dtype\u001b[0m\u001b[0;34m(\u001b[0m\u001b[0mright\u001b[0m\u001b[0;34m)\u001b[0m \u001b[0;32mand\u001b[0m \u001b[0;32mnot\u001b[0m \u001b[0mis_cmp\u001b[0m\u001b[0;34m:\u001b[0m\u001b[0;34m\u001b[0m\u001b[0;34m\u001b[0m\u001b[0m\n",
      "\u001b[0;32m/opt/anaconda3x/lib/python3.7/site-packages/pandas/core/computation/expressions.py\u001b[0m in \u001b[0;36mevaluate\u001b[0;34m(op, a, b, use_numexpr)\u001b[0m\n\u001b[1;32m    237\u001b[0m         \u001b[0;32mif\u001b[0m \u001b[0muse_numexpr\u001b[0m\u001b[0;34m:\u001b[0m\u001b[0;34m\u001b[0m\u001b[0;34m\u001b[0m\u001b[0m\n\u001b[1;32m    238\u001b[0m             \u001b[0;31m# error: \"None\" not callable\u001b[0m\u001b[0;34m\u001b[0m\u001b[0;34m\u001b[0m\u001b[0;34m\u001b[0m\u001b[0m\n\u001b[0;32m--> 239\u001b[0;31m             \u001b[0;32mreturn\u001b[0m \u001b[0m_evaluate\u001b[0m\u001b[0;34m(\u001b[0m\u001b[0mop\u001b[0m\u001b[0;34m,\u001b[0m \u001b[0mop_str\u001b[0m\u001b[0;34m,\u001b[0m \u001b[0ma\u001b[0m\u001b[0;34m,\u001b[0m \u001b[0mb\u001b[0m\u001b[0;34m)\u001b[0m  \u001b[0;31m# type: ignore[misc]\u001b[0m\u001b[0;34m\u001b[0m\u001b[0;34m\u001b[0m\u001b[0m\n\u001b[0m\u001b[1;32m    240\u001b[0m     \u001b[0;32mreturn\u001b[0m \u001b[0m_evaluate_standard\u001b[0m\u001b[0;34m(\u001b[0m\u001b[0mop\u001b[0m\u001b[0;34m,\u001b[0m \u001b[0mop_str\u001b[0m\u001b[0;34m,\u001b[0m \u001b[0ma\u001b[0m\u001b[0;34m,\u001b[0m \u001b[0mb\u001b[0m\u001b[0;34m)\u001b[0m\u001b[0;34m\u001b[0m\u001b[0;34m\u001b[0m\u001b[0m\n\u001b[1;32m    241\u001b[0m \u001b[0;34m\u001b[0m\u001b[0m\n",
      "\u001b[0;32m/opt/anaconda3x/lib/python3.7/site-packages/pandas/core/computation/expressions.py\u001b[0m in \u001b[0;36m_evaluate_numexpr\u001b[0;34m(op, op_str, a, b)\u001b[0m\n\u001b[1;32m    126\u001b[0m \u001b[0;34m\u001b[0m\u001b[0m\n\u001b[1;32m    127\u001b[0m     \u001b[0;32mif\u001b[0m \u001b[0mresult\u001b[0m \u001b[0;32mis\u001b[0m \u001b[0;32mNone\u001b[0m\u001b[0;34m:\u001b[0m\u001b[0;34m\u001b[0m\u001b[0;34m\u001b[0m\u001b[0m\n\u001b[0;32m--> 128\u001b[0;31m         \u001b[0mresult\u001b[0m \u001b[0;34m=\u001b[0m \u001b[0m_evaluate_standard\u001b[0m\u001b[0;34m(\u001b[0m\u001b[0mop\u001b[0m\u001b[0;34m,\u001b[0m \u001b[0mop_str\u001b[0m\u001b[0;34m,\u001b[0m \u001b[0ma\u001b[0m\u001b[0;34m,\u001b[0m \u001b[0mb\u001b[0m\u001b[0;34m)\u001b[0m\u001b[0;34m\u001b[0m\u001b[0;34m\u001b[0m\u001b[0m\n\u001b[0m\u001b[1;32m    129\u001b[0m \u001b[0;34m\u001b[0m\u001b[0m\n\u001b[1;32m    130\u001b[0m     \u001b[0;32mreturn\u001b[0m \u001b[0mresult\u001b[0m\u001b[0;34m\u001b[0m\u001b[0;34m\u001b[0m\u001b[0m\n",
      "\u001b[0;32m/opt/anaconda3x/lib/python3.7/site-packages/pandas/core/computation/expressions.py\u001b[0m in \u001b[0;36m_evaluate_standard\u001b[0;34m(op, op_str, a, b)\u001b[0m\n\u001b[1;32m     67\u001b[0m     \u001b[0;32mif\u001b[0m \u001b[0m_TEST_MODE\u001b[0m\u001b[0;34m:\u001b[0m\u001b[0;34m\u001b[0m\u001b[0;34m\u001b[0m\u001b[0m\n\u001b[1;32m     68\u001b[0m         \u001b[0m_store_test_result\u001b[0m\u001b[0;34m(\u001b[0m\u001b[0;32mFalse\u001b[0m\u001b[0;34m)\u001b[0m\u001b[0;34m\u001b[0m\u001b[0;34m\u001b[0m\u001b[0m\n\u001b[0;32m---> 69\u001b[0;31m     \u001b[0;32mreturn\u001b[0m \u001b[0mop\u001b[0m\u001b[0;34m(\u001b[0m\u001b[0ma\u001b[0m\u001b[0;34m,\u001b[0m \u001b[0mb\u001b[0m\u001b[0;34m)\u001b[0m\u001b[0;34m\u001b[0m\u001b[0;34m\u001b[0m\u001b[0m\n\u001b[0m\u001b[1;32m     70\u001b[0m \u001b[0;34m\u001b[0m\u001b[0m\n\u001b[1;32m     71\u001b[0m \u001b[0;34m\u001b[0m\u001b[0m\n",
      "\u001b[0;32m/opt/anaconda3x/lib/python3.7/site-packages/pandas/core/roperator.py\u001b[0m in \u001b[0;36mrsub\u001b[0;34m(left, right)\u001b[0m\n\u001b[1;32m     11\u001b[0m \u001b[0;34m\u001b[0m\u001b[0m\n\u001b[1;32m     12\u001b[0m \u001b[0;32mdef\u001b[0m \u001b[0mrsub\u001b[0m\u001b[0;34m(\u001b[0m\u001b[0mleft\u001b[0m\u001b[0;34m,\u001b[0m \u001b[0mright\u001b[0m\u001b[0;34m)\u001b[0m\u001b[0;34m:\u001b[0m\u001b[0;34m\u001b[0m\u001b[0;34m\u001b[0m\u001b[0m\n\u001b[0;32m---> 13\u001b[0;31m     \u001b[0;32mreturn\u001b[0m \u001b[0mright\u001b[0m \u001b[0;34m-\u001b[0m \u001b[0mleft\u001b[0m\u001b[0;34m\u001b[0m\u001b[0;34m\u001b[0m\u001b[0m\n\u001b[0m\u001b[1;32m     14\u001b[0m \u001b[0;34m\u001b[0m\u001b[0m\n\u001b[1;32m     15\u001b[0m \u001b[0;34m\u001b[0m\u001b[0m\n",
      "\u001b[0;31mValueError\u001b[0m: operands could not be broadcast together with shapes (0,) (64,) "
     ]
    }
   ],
   "source": [
    "def get_training_decision_times(path: Path, n_tasks: int = 23, tz_offset: float = -18000) -> pd.DataFrame:\n",
    "    \"\"\"Compute the time between when a simulation is received\n",
    "    and the next one sent off\n",
    "    \n",
    "    Args:\n",
    "        path: Path to run directory\n",
    "        n_tasks: Number of tasks per model\n",
    "        tz_offset: In case logs and results are in different timezones (ugh)\n",
    "    Returns:\n",
    "    \"\"\"\n",
    "    \n",
    "    # Get the time the result was placed in the redis queue\n",
    "    receive_times = pd.read_json(path / 'training-results.json', lines=True)['time_result_sent'] - tz_offset # Revise to account for failed models!!!\n",
    "\n",
    "    # Get the times\n",
    "    done_times = []\n",
    "    to_process = []\n",
    "    to_task = []\n",
    "    to_funcx = []\n",
    "    with open(path / 'runtime.log') as fp:\n",
    "        for x in fp:\n",
    "            if 'left to go' in x: \n",
    "                to_process.append(datetime.strptime(x.split(\" - \")[0], \"%Y-%m-%d %H:%M:%S,%f\").timestamp())\n",
    "            elif 'Client sent a evaluate_mpnn ' in x:\n",
    "                to_task.append(datetime.strptime(x.split(\" - \")[0], \"%Y-%m-%d %H:%M:%S,%f\").timestamp())\n",
    "            elif 'Submitted evaluate_mpnn to run on ' in x:\n",
    "                to_funcx.append(datetime.strptime(x.split(\" - \")[0], \"%Y-%m-%d %H:%M:%S,%f\").timestamp())\n",
    "    \n",
    "    # Compute the reaction times\n",
    "    to_task = np.array(to_task)[::n_tasks]\n",
    "    to_funcx = np.array(to_funcx)[::n_tasks]\n",
    "    to_process = np.array(to_process)\n",
    "    resolve_times = np.subtract(to_process, receive_times)\n",
    "    decision_times = np.subtract(to_task, receive_times[:len(to_task)])\n",
    "    funcx_times = np.subtract(to_funcx, receive_times[:len(to_task)])\n",
    "    \n",
    "    return pd.DataFrame({\n",
    "        'to_resolve': resolve_times,\n",
    "        'to_inference': decision_times,\n",
    "        'to_funcx': funcx_times\n",
    "    })\n",
    "funcx_train_decision = get_training_decision_times(funcx)"
   ]
  },
  {
   "cell_type": "code",
   "execution_count": null,
   "id": "c240405d-2bc3-4612-9f3f-932108dabef2",
   "metadata": {},
   "outputs": [],
   "source": [
    "funcx_train_decision.describe()"
   ]
  },
  {
   "cell_type": "markdown",
   "id": "e9ac23db-696f-4b12-833d-724e65f28bc9",
   "metadata": {},
   "source": [
    "### Inference Decision\n",
    "Measure the time between when we get the last inference result and finish processing it"
   ]
  },
  {
   "cell_type": "code",
   "execution_count": null,
   "id": "6ca1b7c2-19ac-4cd5-8b78-58fec97fea74",
   "metadata": {},
   "outputs": [],
   "source": [
    "def get_inference_decision_times(path: Path, n_tasks: int = 184, tz_offset: float = -18000) -> pd.DataFrame:\n",
    "    \"\"\"Compute the time between when a simulation is received\n",
    "    and the next one sent off\n",
    "    \n",
    "    Args:\n",
    "        path: Path to run directory\n",
    "        n_tasks: Number of inference tasks per round\n",
    "        tz_offset: In case logs and results are in different timezones (ugh)\n",
    "    Returns:\n",
    "        Dataframe with a 'to_task_server' and 'to_funcx' column\n",
    "    \"\"\"\n",
    "    \n",
    "    # Get the time it was placed in queue\n",
    "    receive_times = pd.read_json(path / 'inference-results.json', lines=True)['time_result_sent'][n_tasks - 1::n_tasks] - tz_offset\n",
    "\n",
    "    # Get the times\n",
    "    process_times = []\n",
    "    to_task = []\n",
    "    with open(path / 'runtime.log') as fp:\n",
    "        for x in fp:\n",
    "            if 'Processed inference task 184/184' in x:\n",
    "                process_times.append(datetime.strptime(x.split(\" - \")[0], \"%Y-%m-%d %H:%M:%S,%f\").timestamp())\n",
    "            elif 'Updated task list' in x:\n",
    "                to_task.append(datetime.strptime(x.split(\" - \")[0], \"%Y-%m-%d %H:%M:%S,%f\").timestamp())\n",
    "    # Compute the reaction times\n",
    "    to_task = np.array(to_task)\n",
    "    decision_times = np.subtract(to_task, process_times)\n",
    "    process_times = np.subtract(process_times, receive_times)\n",
    "    \n",
    "    return pd.DataFrame({\n",
    "        'to_process': process_times,\n",
    "        'to_update': decision_times,\n",
    "        'total': process_times + decision_times\n",
    "    })\n",
    "with (funcx / 'duplicates.json').open() as fp:\n",
    "    funcx_inf_decision = pd.concat([get_inference_decision_times(Path(x)) for x in json.load(fp)], ignore_index=True)"
   ]
  },
  {
   "cell_type": "code",
   "execution_count": null,
   "id": "3e9e59d1-cacf-4637-9c33-af504359bf61",
   "metadata": {},
   "outputs": [],
   "source": [
    "funcx_inf_decision.describe([0.25, 0.50, 0.95])"
   ]
  },
  {
   "cell_type": "markdown",
   "id": "2e678e47-69e6-4c37-8e17-b79686682f18",
   "metadata": {},
   "source": [
    "## Dispatch Time\n",
    "The final source of latency is the time it takes to dispatch compute onto a waiting worker"
   ]
  },
  {
   "cell_type": "markdown",
   "id": "fae8f61c-5110-4c77-8e71-f17781a366b4",
   "metadata": {},
   "source": [
    "### Training Tasks\n",
    "Determine the time it takes for FuncX workers to start the training process. We know the nodes are empty at this point, so this latency is form of underutilization."
   ]
  },
  {
   "cell_type": "code",
   "execution_count": null,
   "id": "87365789-dc06-4c48-a8a8-e2db682796a9",
   "metadata": {},
   "outputs": [],
   "source": [
    "def assess_training_startup(tasks: pd.DataFrame) -> pd.DataFrame:\n",
    "    \"\"\"Assess the latencies in starting up a model training\n",
    "    \n",
    "    Args:\n",
    "        tasks: List of tasks to be assessed\n",
    "    Returns:\n",
    "        Associated latencies\n",
    "    \"\"\"\n",
    "    \n",
    "    train_tasks = tasks.query('task_type==\"training\"').copy()\n",
    "    \n",
    "    # Compute the time a process is blocking while waiting for a proxy to resolve\n",
    "    def get_proxy_resolve_time(x):\n",
    "        \"\"\"Get \"\"\"\n",
    "        data = eval(x)\n",
    "        return sum([\n",
    "            i['resolve']['calls'] * i['resolve']['avg_time_ms'] / 1000 for i in data.values() if 'resolve' in i\n",
    "        ])\n",
    "    train_tasks['time_resolve'] = train_tasks['proxy_timing'].map(get_proxy_resolve_time)\n",
    "    train_tasks['total_serialization'] = (train_tasks.time_deserialize_inputs + train_tasks.time_serialize_inputs \n",
    "                                          + train_tasks.time_async_resolve_proxies)\n",
    "    train_tasks['funcx_communication'] = train_tasks['time_compute_started'] - train_tasks['time_input_received']\n",
    "    train_tasks['total_latency'] = (train_tasks['time_compute_started']  - train_tasks['time_created'] + train_tasks['time_resolve'])\n",
    "    \n",
    "    return train_tasks[['total_serialization', 'time_resolve', 'funcx_communication', 'total_latency', 'time_running']]\n",
    "funcx_train_startup = assess_training_startup(funcx_tasks)"
   ]
  },
  {
   "cell_type": "code",
   "execution_count": null,
   "id": "93634680-8739-4ab7-9714-999b7a918dde",
   "metadata": {},
   "outputs": [],
   "source": [
    "funcx_train_startup.describe()"
   ]
  },
  {
   "cell_type": "markdown",
   "id": "e8ba40ba-0eaf-48ba-898c-10c35abea208",
   "metadata": {},
   "source": [
    "### Inference Tasks\n",
    "When the first model finishes training, there is under utilization between when the model finishes training and the results are sent"
   ]
  },
  {
   "cell_type": "code",
   "execution_count": null,
   "id": "4ee15a14-8909-4f2f-b3a6-5630a130f347",
   "metadata": {},
   "outputs": [],
   "source": [
    "def assess_inference_initilization(tasks: pd.DataFrame, tasks_per_batch: int = 184) -> pd.DataFrame:\n",
    "    \"\"\"Assess the latencies in starting up a model training\n",
    "    \n",
    "    Args:\n",
    "        tasks: List of tasks to be assessed\n",
    "        tasks_per_batch: Number of tasks per inference batch\n",
    "    Returns:\n",
    "        Associated latencies\n",
    "    \"\"\"\n",
    "    \n",
    "    # Get the inference tasks\n",
    "    inf_tasks = tasks.query('task_type==\"inference\"').copy()\n",
    "    inf_tasks.sort_values('time_compute_started', inplace=True)\n",
    "    \n",
    "    # Assign them a batch ID\n",
    "    inf_tasks['batch_id'] = None\n",
    "    for gid, group in inf_tasks.groupby('run'):\n",
    "        n_batches = len(group) // tasks_per_batch + 1\n",
    "        batch_id = np.repeat(range(n_batches), tasks_per_batch)\n",
    "        inf_tasks.loc[group.index, 'batch_id'] = batch_id[:len(group)]\n",
    "    \n",
    "    # Remove the first batch\n",
    "    #inf_tasks.query('batch_id > 0', inplace=True)\n",
    "    \n",
    "    # Get the first one to start for each batch\n",
    "    inf_tasks.sort_values('time_compute_started', inplace=True, ascending=True)\n",
    "    inf_tasks['total_serialization'] = inf_tasks.time_deserialize_inputs + inf_tasks.time_serialize_inputs + inf_tasks.time_async_resolve_proxies\n",
    "    inf_tasks['funcx_communication'] = inf_tasks['time_compute_started'] - inf_tasks['time_created']\n",
    "    inf_tasks['total_startup'] = inf_tasks['funcx_communication'] + inf_tasks['time_input_resolution']\n",
    "    \n",
    "    # Remove all but the columns we want \n",
    "    inf_tasks = inf_tasks[['run', 'batch_id', 'total_serialization', 'funcx_communication', 'time_input_resolution',\n",
    "                           'total_startup', 'time_running', 'proxy_timing']]\n",
    "    \n",
    "    # Get the first tasks\n",
    "    first_tasks = inf_tasks.drop_duplicates(['run', 'batch_id'], keep='first')\n",
    "    next_tasks = inf_tasks[np.logical_not(inf_tasks.index.map(lambda x: x in first_tasks.index).values)]\n",
    "    \n",
    "    return first_tasks, next_tasks\n",
    "funcx_inf_startup, funcx_inf_second = assess_inference_initilization(funcx_tasks)"
   ]
  },
  {
   "cell_type": "code",
   "execution_count": null,
   "id": "6f97627e-9a5c-477f-89eb-87b631d9e931",
   "metadata": {},
   "outputs": [],
   "source": [
    "funcx_inf_startup.describe()"
   ]
  },
  {
   "cell_type": "code",
   "execution_count": null,
   "id": "ac7eeae7-7348-4363-95c4-af38b35e027e",
   "metadata": {},
   "outputs": [],
   "source": [
    "funcx_inf_second.describe()"
   ]
  },
  {
   "cell_type": "code",
   "execution_count": null,
   "id": "ecdcb642-96e3-4469-ba85-85f981589c0c",
   "metadata": {},
   "outputs": [],
   "source": [
    "cache_hits = np.mean(funcx_inf_second['time_input_resolution'] < 0.1)\n",
    "print(f'{cache_hits*100:.1f}% of tasks complete in under 100ms')"
   ]
  },
  {
   "cell_type": "markdown",
   "id": "f0b32f91-192d-4640-af1d-8223033692a8",
   "metadata": {},
   "source": [
    "The time to start an inference task is limited by the model arriving at the worker."
   ]
  },
  {
   "cell_type": "code",
   "execution_count": null,
   "id": "6f1ac503-4c32-40aa-aafb-47fa3d2004c3",
   "metadata": {},
   "outputs": [],
   "source": [
    "fig, ax = plt.subplots(figsize=(3.5, 2.5))\n",
    "\n",
    "stats = funcx_inf_startup.groupby('batch_id')['total_startup'].describe()\n",
    "ax.plot(stats.index, stats['mean'], '--o', label='Total startup')\n",
    "\n",
    "stats = funcx_inf_startup.groupby('batch_id')['time_input_resolution'].describe()\n",
    "ax.plot(stats.index, stats['mean'], '--s', label='Proxy resolution')\n",
    "\n",
    "\n",
    "ax.legend()\n",
    "ax.set_xlabel('Batch ID')\n",
    "ax.set_ylabel('Startup Time')"
   ]
  },
  {
   "cell_type": "markdown",
   "id": "e052677a-8849-4ab6-b403-2b8fd60c38f3",
   "metadata": {},
   "source": [
    "We can see that the time to start the first batch is much larger, where we have to send both the model and search space"
   ]
  },
  {
   "cell_type": "markdown",
   "id": "fbdb8506-c99c-4ae0-8bf2-651e4d8d836a",
   "metadata": {},
   "source": [
    "### Simulation Tasks\n",
    "The time between when a simulation task is created and placed on the node"
   ]
  },
  {
   "cell_type": "code",
   "execution_count": null,
   "id": "3d13559a-6589-4529-9474-1414bc6a13bc",
   "metadata": {},
   "outputs": [],
   "source": [
    "sim_tasks = funcx_tasks.query('task_type==\"simulation\"')"
   ]
  },
  {
   "cell_type": "code",
   "execution_count": null,
   "id": "da8b16bc-b2bc-4619-a287-7c2303095d2f",
   "metadata": {},
   "outputs": [],
   "source": [
    "(sim_tasks.time_compute_started - sim_tasks.time_created).describe()"
   ]
  },
  {
   "cell_type": "markdown",
   "id": "2e3c3f06-5658-475d-85cf-4937ef0a7e00",
   "metadata": {},
   "source": [
    "The median is only 330ms. There is a high maximum, but we are not getting charged for the job waiting in queue."
   ]
  },
  {
   "cell_type": "code",
   "execution_count": null,
   "id": "af78acd8-8b43-4f27-a156-6c2e74f35790",
   "metadata": {},
   "outputs": [],
   "source": []
  }
 ],
 "metadata": {
  "kernelspec": {
   "display_name": "Python 3 (ipykernel)",
   "language": "python",
   "name": "python3"
  },
  "language_info": {
   "codemirror_mode": {
    "name": "ipython",
    "version": 3
   },
   "file_extension": ".py",
   "mimetype": "text/x-python",
   "name": "python",
   "nbconvert_exporter": "python",
   "pygments_lexer": "ipython3",
   "version": "3.7.4"
  }
 },
 "nbformat": 4,
 "nbformat_minor": 5
}
